{
 "cells": [
  {
   "cell_type": "markdown",
   "source": [
    "# Verisk - computer purchase problem\n",
    "\n",
    "*by Jolanta Śliwa*"
   ],
   "metadata": {
    "collapsed": false
   }
  },
  {
   "cell_type": "markdown",
   "source": [
    "## Problem Statement\n",
    "Suppose you're trying to help a company determine which computers to purchase.\n",
    "### Data - utilization data by employee:\n",
    "The company has been able to pull utilization data by employee that classifies users into 3 bins, depending on how much they use their computer in their work:\n",
    "* Low usage - spends a lot of time in meetings, checking email, doing people management\n",
    "* Average usage - requires some compute power, with balanced mix of heads down/technical work along with a\n",
    "good amount of meetings/email writing\n",
    "* High usage - power user, relies heavily on computer performance\n"
   ],
   "metadata": {
    "collapsed": false
   }
  },
  {
   "cell_type": "code",
   "execution_count": 1,
   "metadata": {
    "collapsed": true
   },
   "outputs": [],
   "source": [
    "import pandas as pd\n",
    "\n",
    "\n",
    "utilization = pd.read_csv(\n",
    "    \"https://raw.githubusercontent.com/shubhamkalra27/dsep-2020/main/datasets/util_b_emp.csv\"\n",
    ")"
   ]
  },
  {
   "cell_type": "code",
   "execution_count": 2,
   "outputs": [
    {
     "name": "stdout",
     "output_type": "stream",
     "text": [
      "<class 'pandas.core.frame.DataFrame'>\n",
      "RangeIndex: 146 entries, 0 to 145\n",
      "Data columns (total 2 columns):\n",
      " #   Column           Non-Null Count  Dtype \n",
      "---  ------           --------------  ----- \n",
      " 0   employee_id      146 non-null    int64 \n",
      " 1   utilization_bin  146 non-null    object\n",
      "dtypes: int64(1), object(1)\n",
      "memory usage: 2.4+ KB\n"
     ]
    }
   ],
   "source": [
    "utilization.info()"
   ],
   "metadata": {
    "collapsed": false
   }
  },
  {
   "cell_type": "code",
   "execution_count": 3,
   "outputs": [
    {
     "data": {
      "text/plain": "   employee_id utilization_bin\n0         1743            high\n1         1752            high\n2         1758            high\n3         1825            high\n4         1842            high",
      "text/html": "<div>\n<style scoped>\n    .dataframe tbody tr th:only-of-type {\n        vertical-align: middle;\n    }\n\n    .dataframe tbody tr th {\n        vertical-align: top;\n    }\n\n    .dataframe thead th {\n        text-align: right;\n    }\n</style>\n<table border=\"1\" class=\"dataframe\">\n  <thead>\n    <tr style=\"text-align: right;\">\n      <th></th>\n      <th>employee_id</th>\n      <th>utilization_bin</th>\n    </tr>\n  </thead>\n  <tbody>\n    <tr>\n      <th>0</th>\n      <td>1743</td>\n      <td>high</td>\n    </tr>\n    <tr>\n      <th>1</th>\n      <td>1752</td>\n      <td>high</td>\n    </tr>\n    <tr>\n      <th>2</th>\n      <td>1758</td>\n      <td>high</td>\n    </tr>\n    <tr>\n      <th>3</th>\n      <td>1825</td>\n      <td>high</td>\n    </tr>\n    <tr>\n      <th>4</th>\n      <td>1842</td>\n      <td>high</td>\n    </tr>\n  </tbody>\n</table>\n</div>"
     },
     "execution_count": 3,
     "metadata": {},
     "output_type": "execute_result"
    }
   ],
   "source": [
    "utilization.head()"
   ],
   "metadata": {
    "collapsed": false
   }
  },
  {
   "cell_type": "markdown",
   "source": [
    "Checking types of utilization"
   ],
   "metadata": {
    "collapsed": false
   }
  },
  {
   "cell_type": "code",
   "execution_count": 4,
   "outputs": [
    {
     "data": {
      "text/plain": "array(['high', 'medium', 'low'], dtype=object)"
     },
     "execution_count": 4,
     "metadata": {},
     "output_type": "execute_result"
    }
   ],
   "source": [
    "utilization[\"utilization_bin\"].unique()"
   ],
   "metadata": {
    "collapsed": false
   }
  },
  {
   "cell_type": "markdown",
   "source": [
    "average usage is stored as medium"
   ],
   "metadata": {
    "collapsed": false
   }
  },
  {
   "cell_type": "markdown",
   "source": [
    "## Data - survey\n",
    "Additionally, they've surveyed employees to collect the relative importance of the following variables describing a\n",
    "computer's performance:\n",
    "* Memory\n",
    "* Processing\n",
    "* Storage\n",
    "* Price inverse - this metric was given to you by the company as you can see in the dataset, with the directive that\n",
    "price inverse being fixed at a 25% weight in the purchase decision"
   ],
   "metadata": {
    "collapsed": false
   }
  },
  {
   "cell_type": "code",
   "execution_count": 5,
   "outputs": [],
   "source": [
    "survey = pd.read_csv(\n",
    "    \"https://raw.githubusercontent.com/shubhamkalra27/dsep-2020/main/datasets/survey_emp.csv\"\n",
    ")"
   ],
   "metadata": {
    "collapsed": false
   }
  },
  {
   "cell_type": "code",
   "execution_count": 6,
   "outputs": [
    {
     "name": "stdout",
     "output_type": "stream",
     "text": [
      "<class 'pandas.core.frame.DataFrame'>\n",
      "RangeIndex: 146 entries, 0 to 145\n",
      "Data columns (total 5 columns):\n",
      " #   Column         Non-Null Count  Dtype  \n",
      "---  ------         --------------  -----  \n",
      " 0   employee_id    146 non-null    int64  \n",
      " 1   memory         146 non-null    float64\n",
      " 2   processing     146 non-null    float64\n",
      " 3   storage        146 non-null    float64\n",
      " 4   inverse_price  146 non-null    float64\n",
      "dtypes: float64(4), int64(1)\n",
      "memory usage: 5.8 KB\n"
     ]
    }
   ],
   "source": [
    "survey.info()"
   ],
   "metadata": {
    "collapsed": false
   }
  },
  {
   "cell_type": "code",
   "execution_count": 7,
   "outputs": [
    {
     "data": {
      "text/plain": "   employee_id  memory  processing  storage  inverse_price\n0         1743   0.375       0.225    0.150           0.25\n1         1752   0.450       0.225    0.075           0.25\n2         1758   0.375       0.300    0.075           0.25\n3         1825   0.300       0.300    0.150           0.25\n4         1842   0.300       0.300    0.150           0.25",
      "text/html": "<div>\n<style scoped>\n    .dataframe tbody tr th:only-of-type {\n        vertical-align: middle;\n    }\n\n    .dataframe tbody tr th {\n        vertical-align: top;\n    }\n\n    .dataframe thead th {\n        text-align: right;\n    }\n</style>\n<table border=\"1\" class=\"dataframe\">\n  <thead>\n    <tr style=\"text-align: right;\">\n      <th></th>\n      <th>employee_id</th>\n      <th>memory</th>\n      <th>processing</th>\n      <th>storage</th>\n      <th>inverse_price</th>\n    </tr>\n  </thead>\n  <tbody>\n    <tr>\n      <th>0</th>\n      <td>1743</td>\n      <td>0.375</td>\n      <td>0.225</td>\n      <td>0.150</td>\n      <td>0.25</td>\n    </tr>\n    <tr>\n      <th>1</th>\n      <td>1752</td>\n      <td>0.450</td>\n      <td>0.225</td>\n      <td>0.075</td>\n      <td>0.25</td>\n    </tr>\n    <tr>\n      <th>2</th>\n      <td>1758</td>\n      <td>0.375</td>\n      <td>0.300</td>\n      <td>0.075</td>\n      <td>0.25</td>\n    </tr>\n    <tr>\n      <th>3</th>\n      <td>1825</td>\n      <td>0.300</td>\n      <td>0.300</td>\n      <td>0.150</td>\n      <td>0.25</td>\n    </tr>\n    <tr>\n      <th>4</th>\n      <td>1842</td>\n      <td>0.300</td>\n      <td>0.300</td>\n      <td>0.150</td>\n      <td>0.25</td>\n    </tr>\n  </tbody>\n</table>\n</div>"
     },
     "execution_count": 7,
     "metadata": {},
     "output_type": "execute_result"
    }
   ],
   "source": [
    "survey.head()"
   ],
   "metadata": {
    "collapsed": false
   }
  },
  {
   "cell_type": "markdown",
   "source": [
    "Checking whether we have 100% in every column"
   ],
   "metadata": {
    "collapsed": false
   }
  },
  {
   "cell_type": "code",
   "execution_count": 8,
   "outputs": [
    {
     "name": "stdout",
     "output_type": "stream",
     "text": [
      "ok\n"
     ]
    }
   ],
   "source": [
    "for i, row in survey.iterrows():\n",
    "    if sum(row[1:]) != 1:\n",
    "        print(\"problem\")\n",
    "        break\n",
    "print(\"ok\")"
   ],
   "metadata": {
    "collapsed": false
   }
  },
  {
   "cell_type": "markdown",
   "source": [
    "## Data - computers\n",
    "Lastly, the company is looking to purchase a maximum of 3 different computer models, and have compiled the following\n",
    "list scoring their memory, processing, storage, and relative price. Each dimension is scored from 0-10, with 10 being the best."
   ],
   "metadata": {
    "collapsed": false
   }
  },
  {
   "cell_type": "code",
   "execution_count": 9,
   "outputs": [],
   "source": [
    "computers = pd.read_csv(\n",
    "    \"https://raw.githubusercontent.com/shubhamkalra27/dsep-2020/main/datasets/vendor_options.csv\"\n",
    ")"
   ],
   "metadata": {
    "collapsed": false
   }
  },
  {
   "cell_type": "code",
   "execution_count": 10,
   "outputs": [
    {
     "name": "stdout",
     "output_type": "stream",
     "text": [
      "<class 'pandas.core.frame.DataFrame'>\n",
      "RangeIndex: 11 entries, 0 to 10\n",
      "Data columns (total 5 columns):\n",
      " #   Column         Non-Null Count  Dtype  \n",
      "---  ------         --------------  -----  \n",
      " 0   computer_id    11 non-null     int64  \n",
      " 1   memory         11 non-null     int64  \n",
      " 2   processing     11 non-null     int64  \n",
      " 3   storage        11 non-null     int64  \n",
      " 4   inverse_price  11 non-null     float64\n",
      "dtypes: float64(1), int64(4)\n",
      "memory usage: 568.0 bytes\n"
     ]
    }
   ],
   "source": [
    "computers.info()"
   ],
   "metadata": {
    "collapsed": false
   }
  },
  {
   "cell_type": "code",
   "execution_count": 11,
   "outputs": [
    {
     "data": {
      "text/plain": "   computer_id  memory  processing  storage  inverse_price\n0           13       5           7       10            2.7\n1           16       9           8        9            1.3\n2            4       8           9       10            1.0\n3            1       8           8        9            1.7\n4            3       5           4        4            5.7",
      "text/html": "<div>\n<style scoped>\n    .dataframe tbody tr th:only-of-type {\n        vertical-align: middle;\n    }\n\n    .dataframe tbody tr th {\n        vertical-align: top;\n    }\n\n    .dataframe thead th {\n        text-align: right;\n    }\n</style>\n<table border=\"1\" class=\"dataframe\">\n  <thead>\n    <tr style=\"text-align: right;\">\n      <th></th>\n      <th>computer_id</th>\n      <th>memory</th>\n      <th>processing</th>\n      <th>storage</th>\n      <th>inverse_price</th>\n    </tr>\n  </thead>\n  <tbody>\n    <tr>\n      <th>0</th>\n      <td>13</td>\n      <td>5</td>\n      <td>7</td>\n      <td>10</td>\n      <td>2.7</td>\n    </tr>\n    <tr>\n      <th>1</th>\n      <td>16</td>\n      <td>9</td>\n      <td>8</td>\n      <td>9</td>\n      <td>1.3</td>\n    </tr>\n    <tr>\n      <th>2</th>\n      <td>4</td>\n      <td>8</td>\n      <td>9</td>\n      <td>10</td>\n      <td>1.0</td>\n    </tr>\n    <tr>\n      <th>3</th>\n      <td>1</td>\n      <td>8</td>\n      <td>8</td>\n      <td>9</td>\n      <td>1.7</td>\n    </tr>\n    <tr>\n      <th>4</th>\n      <td>3</td>\n      <td>5</td>\n      <td>4</td>\n      <td>4</td>\n      <td>5.7</td>\n    </tr>\n  </tbody>\n</table>\n</div>"
     },
     "execution_count": 11,
     "metadata": {},
     "output_type": "execute_result"
    }
   ],
   "source": [
    "computers.head()"
   ],
   "metadata": {
    "collapsed": false
   }
  },
  {
   "cell_type": "markdown",
   "source": [
    "Checking \"real\" range of scores:"
   ],
   "metadata": {
    "collapsed": false
   }
  },
  {
   "cell_type": "code",
   "execution_count": 12,
   "outputs": [
    {
     "name": "stdout",
     "output_type": "stream",
     "text": [
      "computer_id      20.0\n",
      "memory            9.0\n",
      "processing       10.0\n",
      "storage          10.0\n",
      "inverse_price     5.7\n",
      "dtype: float64\n"
     ]
    }
   ],
   "source": [
    "print(computers.max())"
   ],
   "metadata": {
    "collapsed": false
   }
  },
  {
   "cell_type": "code",
   "execution_count": 13,
   "outputs": [
    {
     "name": "stdout",
     "output_type": "stream",
     "text": [
      "computer_id      1.0\n",
      "memory           5.0\n",
      "processing       4.0\n",
      "storage          4.0\n",
      "inverse_price    1.0\n",
      "dtype: float64\n"
     ]
    }
   ],
   "source": [
    "print(computers.min())"
   ],
   "metadata": {
    "collapsed": false
   }
  },
  {
   "cell_type": "markdown",
   "source": [
    "## Task\n",
    "**Given this information, provide the company with a recommendation on which computers to purchase.**"
   ],
   "metadata": {
    "collapsed": false
   }
  },
  {
   "cell_type": "markdown",
   "source": [
    "List of parameters:"
   ],
   "metadata": {
    "collapsed": false
   }
  },
  {
   "cell_type": "code",
   "execution_count": 14,
   "outputs": [
    {
     "name": "stdout",
     "output_type": "stream",
     "text": [
      "Index(['memory', 'processing', 'storage', 'inverse_price'], dtype='object')\n"
     ]
    }
   ],
   "source": [
    "parameters = computers.columns[1:]\n",
    "print(parameters)"
   ],
   "metadata": {
    "collapsed": false
   }
  },
  {
   "cell_type": "markdown",
   "source": [
    "It will be more convenient for me to store all employees related data in one DataFrame instead of two.\n",
    "\n",
    "Merging survey and utilization into employees column:"
   ],
   "metadata": {
    "collapsed": false
   }
  },
  {
   "cell_type": "code",
   "execution_count": 15,
   "outputs": [],
   "source": [
    "employees = utilization.merge(survey, left_on=\"employee_id\", right_on=\"employee_id\")"
   ],
   "metadata": {
    "collapsed": false
   }
  },
  {
   "cell_type": "code",
   "execution_count": 16,
   "outputs": [
    {
     "name": "stdout",
     "output_type": "stream",
     "text": [
      "<class 'pandas.core.frame.DataFrame'>\n",
      "Int64Index: 146 entries, 0 to 145\n",
      "Data columns (total 6 columns):\n",
      " #   Column           Non-Null Count  Dtype  \n",
      "---  ------           --------------  -----  \n",
      " 0   employee_id      146 non-null    int64  \n",
      " 1   utilization_bin  146 non-null    object \n",
      " 2   memory           146 non-null    float64\n",
      " 3   processing       146 non-null    float64\n",
      " 4   storage          146 non-null    float64\n",
      " 5   inverse_price    146 non-null    float64\n",
      "dtypes: float64(4), int64(1), object(1)\n",
      "memory usage: 8.0+ KB\n"
     ]
    }
   ],
   "source": [
    "employees.info()"
   ],
   "metadata": {
    "collapsed": false
   }
  },
  {
   "cell_type": "code",
   "execution_count": 17,
   "outputs": [
    {
     "data": {
      "text/plain": "   employee_id utilization_bin  memory  processing  storage  inverse_price\n0         1743            high   0.375       0.225    0.150           0.25\n1         1752            high   0.450       0.225    0.075           0.25\n2         1758            high   0.375       0.300    0.075           0.25\n3         1825            high   0.300       0.300    0.150           0.25\n4         1842            high   0.300       0.300    0.150           0.25",
      "text/html": "<div>\n<style scoped>\n    .dataframe tbody tr th:only-of-type {\n        vertical-align: middle;\n    }\n\n    .dataframe tbody tr th {\n        vertical-align: top;\n    }\n\n    .dataframe thead th {\n        text-align: right;\n    }\n</style>\n<table border=\"1\" class=\"dataframe\">\n  <thead>\n    <tr style=\"text-align: right;\">\n      <th></th>\n      <th>employee_id</th>\n      <th>utilization_bin</th>\n      <th>memory</th>\n      <th>processing</th>\n      <th>storage</th>\n      <th>inverse_price</th>\n    </tr>\n  </thead>\n  <tbody>\n    <tr>\n      <th>0</th>\n      <td>1743</td>\n      <td>high</td>\n      <td>0.375</td>\n      <td>0.225</td>\n      <td>0.150</td>\n      <td>0.25</td>\n    </tr>\n    <tr>\n      <th>1</th>\n      <td>1752</td>\n      <td>high</td>\n      <td>0.450</td>\n      <td>0.225</td>\n      <td>0.075</td>\n      <td>0.25</td>\n    </tr>\n    <tr>\n      <th>2</th>\n      <td>1758</td>\n      <td>high</td>\n      <td>0.375</td>\n      <td>0.300</td>\n      <td>0.075</td>\n      <td>0.25</td>\n    </tr>\n    <tr>\n      <th>3</th>\n      <td>1825</td>\n      <td>high</td>\n      <td>0.300</td>\n      <td>0.300</td>\n      <td>0.150</td>\n      <td>0.25</td>\n    </tr>\n    <tr>\n      <th>4</th>\n      <td>1842</td>\n      <td>high</td>\n      <td>0.300</td>\n      <td>0.300</td>\n      <td>0.150</td>\n      <td>0.25</td>\n    </tr>\n  </tbody>\n</table>\n</div>"
     },
     "execution_count": 17,
     "metadata": {},
     "output_type": "execute_result"
    }
   ],
   "source": [
    "employees.head()"
   ],
   "metadata": {
    "collapsed": false
   }
  },
  {
   "cell_type": "markdown",
   "source": [
    "Normally (if we would like to make some predictions) it would be better to store \"object\" (nominal data - categorical data) using one-hot-encoding but in this case it is more convenient for me to leave it like that."
   ],
   "metadata": {
    "collapsed": false
   }
  },
  {
   "cell_type": "markdown",
   "source": [
    "Under we will see outputs of different metrics. For each there will be solution provided by:\n",
    "* Simulated Annealing\n",
    "* Naive algorithm"
   ],
   "metadata": {
    "collapsed": false
   }
  },
  {
   "cell_type": "markdown",
   "source": [
    "Results given by algorithms: id of computer in DataFrame - not the one in colum computer_id"
   ],
   "metadata": {
    "collapsed": false
   }
  },
  {
   "cell_type": "code",
   "execution_count": 18,
   "outputs": [],
   "source": [
    "from problem import (\n",
    "    ProblemNothing,\n",
    "    ProblemMax,\n",
    "    ProblemScale,\n",
    "    ProblemMaxHalf,\n",
    "    ProblemScaleHalf,\n",
    ")"
   ],
   "metadata": {
    "collapsed": false
   }
  },
  {
   "cell_type": "markdown",
   "source": [
    "* ProblemNothing - metric without using utilization info\n",
    "* ProblemMax - metric where every group have a different max score (3, 7, 10)\n",
    "* ProblemMaxHalf - like above with different values (5, 7.5, 10)\n",
    "* ProblemScale - metric where we scale computers scores by multiplying them (3/1, 3/2, 3/3)\n",
    "* ProblemScaleHalf - like above with different values (4/2, 4/3, 4/4)"
   ],
   "metadata": {
    "collapsed": false
   }
  },
  {
   "cell_type": "code",
   "execution_count": 19,
   "outputs": [],
   "source": [
    "from simulated_annealing import SimulatedAnnealing, SimulatedAnnealingConfig\n",
    "from naive_solution import Naive"
   ],
   "metadata": {
    "collapsed": false
   }
  },
  {
   "cell_type": "markdown",
   "source": [
    "### No utilization value"
   ],
   "metadata": {
    "collapsed": false
   }
  },
  {
   "cell_type": "code",
   "execution_count": 20,
   "outputs": [],
   "source": [
    "prob_n = ProblemNothing(computers, employees)"
   ],
   "metadata": {
    "collapsed": false
   }
  },
  {
   "cell_type": "code",
   "execution_count": 21,
   "outputs": [
    {
     "name": "stdout",
     "output_type": "stream",
     "text": [
      "SOLUTION:\n",
      " Best: [10, 1, 8]\n"
     ]
    },
    {
     "data": {
      "text/plain": "[10, 1, 8]"
     },
     "execution_count": 21,
     "metadata": {},
     "output_type": "execute_result"
    }
   ],
   "source": [
    "annealing_n = SimulatedAnnealing(SimulatedAnnealingConfig(), prob_n)\n",
    "\n",
    "annealing_n.solve()"
   ],
   "metadata": {
    "collapsed": false
   }
  },
  {
   "cell_type": "code",
   "execution_count": 23,
   "outputs": [
    {
     "name": "stdout",
     "output_type": "stream",
     "text": [
      "SOLUTION:\n",
      " Best: [1, 2, 8]\n"
     ]
    },
    {
     "data": {
      "text/plain": "[1, 2, 8]"
     },
     "execution_count": 23,
     "metadata": {},
     "output_type": "execute_result"
    }
   ],
   "source": [
    "naive_n = Naive(prob_n)\n",
    "\n",
    "naive_n.solve()"
   ],
   "metadata": {
    "collapsed": false
   }
  },
  {
   "cell_type": "markdown",
   "source": [
    "As we can see simulated annealing sometimes returns solutions that aren't optimal\n",
    "Let's try one more time"
   ],
   "metadata": {
    "collapsed": false
   }
  },
  {
   "cell_type": "code",
   "execution_count": 26,
   "outputs": [
    {
     "name": "stdout",
     "output_type": "stream",
     "text": [
      "SOLUTION:\n",
      " Best: [8, 2, 1]\n"
     ]
    },
    {
     "data": {
      "text/plain": "[8, 2, 1]"
     },
     "execution_count": 26,
     "metadata": {},
     "output_type": "execute_result"
    }
   ],
   "source": [
    "annealing_n = SimulatedAnnealing(SimulatedAnnealingConfig(), prob_n)\n",
    "\n",
    "annealing_n.solve()"
   ],
   "metadata": {
    "collapsed": false
   }
  },
  {
   "cell_type": "markdown",
   "source": [
    "This time we manage to get \"the best\" solution for this metric\n",
    "\n",
    "Let's see how it looks like:"
   ],
   "metadata": {
    "collapsed": false
   }
  },
  {
   "cell_type": "code",
   "execution_count": 28,
   "outputs": [
    {
     "data": {
      "text/plain": "1024.650000000001"
     },
     "execution_count": 28,
     "metadata": {},
     "output_type": "execute_result"
    }
   ],
   "source": [
    "prob_n.calculate_state_cost([10, 1, 8])"
   ],
   "metadata": {
    "collapsed": false
   }
  },
  {
   "cell_type": "code",
   "execution_count": 29,
   "outputs": [
    {
     "data": {
      "text/plain": "1024.650000000001"
     },
     "execution_count": 29,
     "metadata": {},
     "output_type": "execute_result"
    }
   ],
   "source": [
    "prob_n.calculate_state_cost([8, 2, 1])"
   ],
   "metadata": {
    "collapsed": false
   }
  },
  {
   "cell_type": "markdown",
   "source": [
    "So actually there are at least 2 optimal solutions"
   ],
   "metadata": {
    "collapsed": false
   }
  },
  {
   "cell_type": "markdown",
   "source": [
    "### Problem MAX\n",
    "#### max: (3, 7, 10)"
   ],
   "metadata": {
    "collapsed": false
   }
  },
  {
   "cell_type": "code",
   "execution_count": 20,
   "outputs": [],
   "source": [
    "prob_max = ProblemMax(computers, employees)"
   ],
   "metadata": {
    "collapsed": false
   }
  },
  {
   "cell_type": "code",
   "execution_count": 30,
   "outputs": [
    {
     "name": "stdout",
     "output_type": "stream",
     "text": [
      "SOLUTION:\n",
      " Best: [4, 5, 1]\n"
     ]
    }
   ],
   "source": [
    "annealing_max = SimulatedAnnealing(SimulatedAnnealingConfig(), prob_max)\n",
    "\n",
    "result_max = annealing_max.solve()"
   ],
   "metadata": {
    "collapsed": false
   }
  },
  {
   "cell_type": "code",
   "execution_count": 31,
   "outputs": [],
   "source": [
    "top_max = prob_max.get_wanted_computers(result_max)"
   ],
   "metadata": {
    "collapsed": false
   }
  },
  {
   "cell_type": "code",
   "execution_count": 32,
   "outputs": [
    {
     "name": "stdout",
     "output_type": "stream",
     "text": [
      "dict_keys([1, 5, 4])\n"
     ]
    }
   ],
   "source": [
    "print(top_max.keys())"
   ],
   "metadata": {
    "collapsed": false
   }
  },
  {
   "cell_type": "code",
   "execution_count": 24,
   "outputs": [
    {
     "name": "stdout",
     "output_type": "stream",
     "text": [
      "SOLUTION:\n",
      " Best: [1, 4, 5]\n"
     ]
    }
   ],
   "source": [
    "naive_max = Naive(prob_max)\n",
    "\n",
    "result_max_n = naive_max.solve()"
   ],
   "metadata": {
    "collapsed": false
   }
  },
  {
   "cell_type": "code",
   "execution_count": 26,
   "outputs": [
    {
     "name": "stdout",
     "output_type": "stream",
     "text": [
      "dict_keys([1, 5, 4])\n"
     ]
    }
   ],
   "source": [
    "print(prob_max.get_wanted_computers(result_max_n).keys())"
   ],
   "metadata": {
    "collapsed": false
   }
  },
  {
   "cell_type": "markdown",
   "source": [
    "#### max: (5, 7.5, 10)"
   ],
   "metadata": {
    "collapsed": false
   }
  },
  {
   "cell_type": "code",
   "execution_count": 41,
   "outputs": [],
   "source": [
    "prob_max_half = ProblemMaxHalf(computers, employees)"
   ],
   "metadata": {
    "collapsed": false
   }
  },
  {
   "cell_type": "code",
   "execution_count": 42,
   "outputs": [
    {
     "name": "stdout",
     "output_type": "stream",
     "text": [
      "SOLUTION:\n",
      " Best: [1, 3, 4]\n"
     ]
    }
   ],
   "source": [
    "annealing_max_half = SimulatedAnnealing(SimulatedAnnealingConfig(), prob_max_half)\n",
    "\n",
    "result_max_half = annealing_max_half.solve()"
   ],
   "metadata": {
    "collapsed": false
   }
  },
  {
   "cell_type": "code",
   "execution_count": 43,
   "outputs": [
    {
     "name": "stdout",
     "output_type": "stream",
     "text": [
      "dict_keys([1, 3, 4])\n"
     ]
    }
   ],
   "source": [
    "print(prob_max_half.get_wanted_computers(result_max_half).keys())"
   ],
   "metadata": {
    "collapsed": false
   }
  },
  {
   "cell_type": "code",
   "execution_count": 44,
   "outputs": [
    {
     "name": "stdout",
     "output_type": "stream",
     "text": [
      "SOLUTION:\n",
      " Best: [1, 3, 4]\n"
     ]
    }
   ],
   "source": [
    "naive_max_half = Naive(prob_max_half)\n",
    "\n",
    "result_max_half_n = naive_max_half.solve()"
   ],
   "metadata": {
    "collapsed": false
   }
  },
  {
   "cell_type": "code",
   "execution_count": 45,
   "outputs": [
    {
     "name": "stdout",
     "output_type": "stream",
     "text": [
      "dict_keys([1, 3, 4])\n"
     ]
    }
   ],
   "source": [
    "print(prob_max_half.get_wanted_computers(result_max_half_n).keys())"
   ],
   "metadata": {
    "collapsed": false
   }
  },
  {
   "cell_type": "markdown",
   "source": [
    "### Problem Scale\n",
    "#### scale: (3/1, 3/2, 3/3)"
   ],
   "metadata": {
    "collapsed": false
   }
  },
  {
   "cell_type": "code",
   "execution_count": 46,
   "outputs": [],
   "source": [
    "prob_scale = ProblemScale(computers, employees)"
   ],
   "metadata": {
    "collapsed": false
   }
  },
  {
   "cell_type": "code",
   "execution_count": 47,
   "outputs": [
    {
     "name": "stdout",
     "output_type": "stream",
     "text": [
      "SOLUTION:\n",
      " Best: [4, 5, 1]\n"
     ]
    }
   ],
   "source": [
    "annealing_scale = SimulatedAnnealing(SimulatedAnnealingConfig(), prob_scale)\n",
    "\n",
    "result_scale = annealing_scale.solve()"
   ],
   "metadata": {
    "collapsed": false
   }
  },
  {
   "cell_type": "code",
   "execution_count": 49,
   "outputs": [
    {
     "name": "stdout",
     "output_type": "stream",
     "text": [
      "dict_keys([1, 5, 4])\n"
     ]
    }
   ],
   "source": [
    "print(prob_scale.get_wanted_computers(result_scale).keys())"
   ],
   "metadata": {
    "collapsed": false
   }
  },
  {
   "cell_type": "code",
   "execution_count": 48,
   "outputs": [
    {
     "name": "stdout",
     "output_type": "stream",
     "text": [
      "SOLUTION:\n",
      " Best: [1, 4, 5]\n"
     ]
    }
   ],
   "source": [
    "naive_scale = Naive(prob_scale)\n",
    "\n",
    "result_scale_n = naive_scale.solve()"
   ],
   "metadata": {
    "collapsed": false
   }
  },
  {
   "cell_type": "code",
   "execution_count": 50,
   "outputs": [
    {
     "name": "stdout",
     "output_type": "stream",
     "text": [
      "dict_keys([1, 5, 4])\n"
     ]
    }
   ],
   "source": [
    "print(prob_scale.get_wanted_computers(result_scale_n).keys())"
   ],
   "metadata": {
    "collapsed": false
   }
  },
  {
   "cell_type": "markdown",
   "source": [
    "#### scale: (4/2, 4/3, 4/4)"
   ],
   "metadata": {
    "collapsed": false
   }
  },
  {
   "cell_type": "code",
   "execution_count": 52,
   "outputs": [],
   "source": [
    "prob_scale_half = ProblemScaleHalf(computers, employees)"
   ],
   "metadata": {
    "collapsed": false
   }
  },
  {
   "cell_type": "code",
   "execution_count": 53,
   "outputs": [
    {
     "name": "stdout",
     "output_type": "stream",
     "text": [
      "SOLUTION:\n",
      " Best: [5, 1, 3]\n"
     ]
    }
   ],
   "source": [
    "annealing_scale_half = SimulatedAnnealing(SimulatedAnnealingConfig(), prob_scale_half)\n",
    "\n",
    "result_scale_half = annealing_scale_half.solve()"
   ],
   "metadata": {
    "collapsed": false
   }
  },
  {
   "cell_type": "code",
   "execution_count": 54,
   "outputs": [
    {
     "name": "stdout",
     "output_type": "stream",
     "text": [
      "dict_keys([1, 3, 5])\n"
     ]
    }
   ],
   "source": [
    "print(prob_scale_half.get_wanted_computers(result_scale_half).keys())"
   ],
   "metadata": {
    "collapsed": false
   }
  },
  {
   "cell_type": "code",
   "execution_count": 57,
   "outputs": [
    {
     "name": "stdout",
     "output_type": "stream",
     "text": [
      "SOLUTION:\n",
      " Best: [1, 3, 5]\n"
     ]
    }
   ],
   "source": [
    "naive_scale_half = Naive(prob_scale_half)\n",
    "\n",
    "result_scale_half_n = naive_scale_half.solve()"
   ],
   "metadata": {
    "collapsed": false
   }
  },
  {
   "cell_type": "code",
   "execution_count": 58,
   "outputs": [
    {
     "name": "stdout",
     "output_type": "stream",
     "text": [
      "dict_keys([1, 3, 5])\n"
     ]
    }
   ],
   "source": [
    "print(prob_scale_half.get_wanted_computers(result_scale_half_n).keys())"
   ],
   "metadata": {
    "collapsed": false
   }
  },
  {
   "cell_type": "markdown",
   "source": [
    "There is still a question which 3 computers are the best for that company?\n",
    "\n",
    "We can see according to all presented metrics computer in row nr 1 is always in top three\n",
    "\n",
    "Others can vary depending on metric we use. We can choose one of the above mathod but there are only 3 candidates for 2 positions.\n",
    "nr five wasn't choosen only by problem max"
   ],
   "metadata": {
    "collapsed": false
   }
  },
  {
   "cell_type": "code",
   "execution_count": 59,
   "outputs": [
    {
     "name": "stdout",
     "output_type": "stream",
     "text": [
      "[1, 3, 4]\n"
     ]
    }
   ],
   "source": [
    "print(result_max_half)"
   ],
   "metadata": {
    "collapsed": false
   }
  },
  {
   "cell_type": "code",
   "execution_count": 60,
   "outputs": [
    {
     "name": "stdout",
     "output_type": "stream",
     "text": [
      "885.2749999999984\n"
     ]
    }
   ],
   "source": [
    "print(prob_max_half.calculate_state_cost(result_max_half))"
   ],
   "metadata": {
    "collapsed": false
   }
  },
  {
   "cell_type": "code",
   "execution_count": 61,
   "outputs": [
    {
     "name": "stdout",
     "output_type": "stream",
     "text": [
      "884.3749999999992\n"
     ]
    }
   ],
   "source": [
    "print(prob_max_half.calculate_state_cost([1, 3, 5]))"
   ],
   "metadata": {
    "collapsed": false
   }
  },
  {
   "cell_type": "code",
   "execution_count": 62,
   "outputs": [
    {
     "name": "stdout",
     "output_type": "stream",
     "text": [
      "876.6750000000017\n"
     ]
    }
   ],
   "source": [
    "print(prob_max_half.calculate_state_cost([1, 5, 4]))"
   ],
   "metadata": {
    "collapsed": false
   }
  },
  {
   "cell_type": "markdown",
   "source": [
    "For that metric there is not a big difference between computer 5 and 4\n",
    "nr 3 seems to better option to leave"
   ],
   "metadata": {
    "collapsed": false
   }
  },
  {
   "cell_type": "markdown",
   "source": [
    "On the other hand we see that nr 4 also was't choosen only by on metric: scale half\n",
    "So it seems that we have final three"
   ],
   "metadata": {
    "collapsed": false
   }
  },
  {
   "cell_type": "code",
   "execution_count": 63,
   "outputs": [
    {
     "name": "stdout",
     "output_type": "stream",
     "text": [
      "[5, 1, 3]\n"
     ]
    }
   ],
   "source": [
    "print(result_scale_half)"
   ],
   "metadata": {
    "collapsed": false
   }
  },
  {
   "cell_type": "code",
   "execution_count": 66,
   "outputs": [
    {
     "name": "stdout",
     "output_type": "stream",
     "text": [
      "1120.6249999999986\n"
     ]
    }
   ],
   "source": [
    "print(prob_scale_half.calculate_state_cost(result_scale_half))"
   ],
   "metadata": {
    "collapsed": false
   }
  },
  {
   "cell_type": "code",
   "execution_count": 65,
   "outputs": [
    {
     "name": "stdout",
     "output_type": "stream",
     "text": [
      "1112.025000000003\n"
     ]
    }
   ],
   "source": [
    "print(prob_scale_half.calculate_state_cost([1, 5, 4]))"
   ],
   "metadata": {
    "collapsed": false
   }
  },
  {
   "cell_type": "code",
   "execution_count": 67,
   "outputs": [
    {
     "name": "stdout",
     "output_type": "stream",
     "text": [
      "1112.624999999997\n"
     ]
    }
   ],
   "source": [
    "print(prob_scale_half.calculate_state_cost([1, 4, 3]))"
   ],
   "metadata": {
    "collapsed": false
   }
  },
  {
   "cell_type": "markdown",
   "source": [
    "Computer nr 4 seems to be less valuable and changing it with 3 or 5 give almost the same results"
   ],
   "metadata": {
    "collapsed": false
   }
  },
  {
   "cell_type": "markdown",
   "source": [
    "Just in case: Let's check nr 3 - wasn't choseen by 2 metrics"
   ],
   "metadata": {
    "collapsed": false
   }
  },
  {
   "cell_type": "code",
   "execution_count": 69,
   "outputs": [
    {
     "name": "stdout",
     "output_type": "stream",
     "text": [
      "[4, 5, 1]\n"
     ]
    }
   ],
   "source": [
    "print(result_max)"
   ],
   "metadata": {
    "collapsed": false
   }
  },
  {
   "cell_type": "code",
   "execution_count": 70,
   "outputs": [
    {
     "name": "stdout",
     "output_type": "stream",
     "text": [
      "852.549999999999\n"
     ]
    }
   ],
   "source": [
    "print(prob_max.calculate_state_cost(result_max))"
   ],
   "metadata": {
    "collapsed": false
   }
  },
  {
   "cell_type": "code",
   "execution_count": 71,
   "outputs": [
    {
     "name": "stdout",
     "output_type": "stream",
     "text": [
      "840.5500000000009\n"
     ]
    }
   ],
   "source": [
    "print(prob_max.calculate_state_cost([3, 5, 1]))"
   ],
   "metadata": {
    "collapsed": false
   }
  },
  {
   "cell_type": "code",
   "execution_count": 72,
   "outputs": [
    {
     "name": "stdout",
     "output_type": "stream",
     "text": [
      "834.1249999999976\n"
     ]
    }
   ],
   "source": [
    "print(prob_max.calculate_state_cost([3, 4, 1]))"
   ],
   "metadata": {
    "collapsed": false
   }
  },
  {
   "cell_type": "code",
   "execution_count": 73,
   "outputs": [
    {
     "name": "stdout",
     "output_type": "stream",
     "text": [
      "[4, 5, 1]\n"
     ]
    }
   ],
   "source": [
    "print(result_scale)"
   ],
   "metadata": {
    "collapsed": false
   }
  },
  {
   "cell_type": "code",
   "execution_count": 77,
   "outputs": [
    {
     "name": "stdout",
     "output_type": "stream",
     "text": [
      "1151.0499999999988\n"
     ]
    }
   ],
   "source": [
    "print(prob_scale.calculate_state_cost(result_scale))"
   ],
   "metadata": {
    "collapsed": false
   }
  },
  {
   "cell_type": "code",
   "execution_count": 74,
   "outputs": [
    {
     "name": "stdout",
     "output_type": "stream",
     "text": [
      "1139.0500000000004\n"
     ]
    }
   ],
   "source": [
    "print(prob_scale.calculate_state_cost([3, 5, 1]))"
   ],
   "metadata": {
    "collapsed": false
   }
  },
  {
   "cell_type": "code",
   "execution_count": 75,
   "outputs": [
    {
     "name": "stdout",
     "output_type": "stream",
     "text": [
      "1132.624999999997\n"
     ]
    }
   ],
   "source": [
    "print(prob_scale.calculate_state_cost([3, 4, 1]))"
   ],
   "metadata": {
    "collapsed": false
   }
  },
  {
   "cell_type": "markdown",
   "source": [
    "As we can see using above metrics and adding computer 3 instead of any other (4 or 5) results in a bigger i other cases derease of cost value"
   ],
   "metadata": {
    "collapsed": false
   }
  },
  {
   "cell_type": "markdown",
   "source": [
    "Under we I displayed top three computers:"
   ],
   "metadata": {
    "collapsed": false
   }
  },
  {
   "cell_type": "code",
   "execution_count": 78,
   "outputs": [
    {
     "data": {
      "text/plain": "   computer_id  memory  processing  storage  inverse_price\n1           16       9           8        9            1.3\n4            3       5           4        4            5.7\n5            2       6           7        7            3.3",
      "text/html": "<div>\n<style scoped>\n    .dataframe tbody tr th:only-of-type {\n        vertical-align: middle;\n    }\n\n    .dataframe tbody tr th {\n        vertical-align: top;\n    }\n\n    .dataframe thead th {\n        text-align: right;\n    }\n</style>\n<table border=\"1\" class=\"dataframe\">\n  <thead>\n    <tr style=\"text-align: right;\">\n      <th></th>\n      <th>computer_id</th>\n      <th>memory</th>\n      <th>processing</th>\n      <th>storage</th>\n      <th>inverse_price</th>\n    </tr>\n  </thead>\n  <tbody>\n    <tr>\n      <th>1</th>\n      <td>16</td>\n      <td>9</td>\n      <td>8</td>\n      <td>9</td>\n      <td>1.3</td>\n    </tr>\n    <tr>\n      <th>4</th>\n      <td>3</td>\n      <td>5</td>\n      <td>4</td>\n      <td>4</td>\n      <td>5.7</td>\n    </tr>\n    <tr>\n      <th>5</th>\n      <td>2</td>\n      <td>6</td>\n      <td>7</td>\n      <td>7</td>\n      <td>3.3</td>\n    </tr>\n  </tbody>\n</table>\n</div>"
     },
     "execution_count": 78,
     "metadata": {},
     "output_type": "execute_result"
    }
   ],
   "source": [
    "computers.iloc[[1, 4, 5]]"
   ],
   "metadata": {
    "collapsed": false
   }
  },
  {
   "cell_type": "markdown",
   "source": [
    "seems like we ended up with rather ballanced final state"
   ],
   "metadata": {
    "collapsed": false
   }
  },
  {
   "cell_type": "code",
   "execution_count": 80,
   "outputs": [
    {
     "data": {
      "text/plain": "1    16\n4     3\n5     2\nName: computer_id, dtype: int64"
     },
     "execution_count": 80,
     "metadata": {},
     "output_type": "execute_result"
    }
   ],
   "source": [
    "computers.iloc[[1, 4, 5]][\"computer_id\"]"
   ],
   "metadata": {
    "collapsed": false
   }
  },
  {
   "cell_type": "markdown",
   "source": [
    "And here we have computer 3 as an addiction"
   ],
   "metadata": {
    "collapsed": false
   }
  },
  {
   "cell_type": "code",
   "execution_count": 79,
   "outputs": [
    {
     "data": {
      "text/plain": "   computer_id  memory  processing  storage  inverse_price\n3            1       8           8        9            1.7",
      "text/html": "<div>\n<style scoped>\n    .dataframe tbody tr th:only-of-type {\n        vertical-align: middle;\n    }\n\n    .dataframe tbody tr th {\n        vertical-align: top;\n    }\n\n    .dataframe thead th {\n        text-align: right;\n    }\n</style>\n<table border=\"1\" class=\"dataframe\">\n  <thead>\n    <tr style=\"text-align: right;\">\n      <th></th>\n      <th>computer_id</th>\n      <th>memory</th>\n      <th>processing</th>\n      <th>storage</th>\n      <th>inverse_price</th>\n    </tr>\n  </thead>\n  <tbody>\n    <tr>\n      <th>3</th>\n      <td>1</td>\n      <td>8</td>\n      <td>8</td>\n      <td>9</td>\n      <td>1.7</td>\n    </tr>\n  </tbody>\n</table>\n</div>"
     },
     "execution_count": 79,
     "metadata": {},
     "output_type": "execute_result"
    }
   ],
   "source": [
    "computers.iloc[[3]]"
   ],
   "metadata": {
    "collapsed": false
   }
  },
  {
   "cell_type": "markdown",
   "source": [
    "it is simmilar to computer nr 3 but with a slightly better price but worse memory"
   ],
   "metadata": {
    "collapsed": false
   }
  },
  {
   "cell_type": "code",
   "execution_count": null,
   "outputs": [],
   "source": [],
   "metadata": {
    "collapsed": false
   }
  }
 ],
 "metadata": {
  "kernelspec": {
   "display_name": "Python 3",
   "language": "python",
   "name": "python3"
  },
  "language_info": {
   "codemirror_mode": {
    "name": "ipython",
    "version": 2
   },
   "file_extension": ".py",
   "mimetype": "text/x-python",
   "name": "python",
   "nbconvert_exporter": "python",
   "pygments_lexer": "ipython2",
   "version": "2.7.6"
  }
 },
 "nbformat": 4,
 "nbformat_minor": 0
}
