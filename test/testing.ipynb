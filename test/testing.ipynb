{
 "cells": [
  {
   "cell_type": "code",
   "execution_count": 16,
   "metadata": {
    "collapsed": true
   },
   "outputs": [],
   "source": [
    "import pandas as pd\n",
    "\n",
    "\n",
    "utilization = pd.read_csv(\n",
    "    \"https://raw.githubusercontent.com/shubhamkalra27/dsep-2020/main/datasets/util_b_emp.csv\"\n",
    ")\n",
    "survey = pd.read_csv(\n",
    "    \"https://raw.githubusercontent.com/shubhamkalra27/dsep-2020/main/datasets/survey_emp.csv\"\n",
    ")\n",
    "computers = pd.read_csv(\n",
    "    \"https://raw.githubusercontent.com/shubhamkalra27/dsep-2020/main/datasets/vendor_options.csv\"\n",
    ")\n",
    "\n",
    "employees = utilization.merge(survey, left_on=\"employee_id\", right_on=\"employee_id\")"
   ]
  },
  {
   "cell_type": "code",
   "execution_count": 17,
   "outputs": [],
   "source": [
    "from problem import ProblemMax\n",
    "\n",
    "\n",
    "problem = ProblemMax(computers, employees)"
   ],
   "metadata": {
    "collapsed": false
   }
  },
  {
   "cell_type": "code",
   "execution_count": 18,
   "outputs": [
    {
     "name": "stdout",
     "output_type": "stream",
     "text": [
      "high: 10\n",
      "9\n",
      "medium: 7\n",
      "7\n",
      "low: 3\n",
      "3\n"
     ]
    }
   ],
   "source": [
    "for key in problem.max_values.keys():\n",
    "    \"\"\"\n",
    "    testing get_value_by_needs\n",
    "    \"\"\"\n",
    "    test = employees[employees[\"utilization_bin\"] == key].iloc[0]\n",
    "    print(key + \":\", problem.max_values.get(key))\n",
    "    print(problem.get_value_by_needs(9, test[\"utilization_bin\"]))"
   ],
   "metadata": {
    "collapsed": false
   }
  },
  {
   "cell_type": "code",
   "execution_count": 19,
   "outputs": [
    {
     "data": {
      "text/plain": "11"
     },
     "execution_count": 19,
     "metadata": {},
     "output_type": "execute_result"
    }
   ],
   "source": [
    "problem.computers.shape[0]"
   ],
   "metadata": {
    "collapsed": false
   }
  },
  {
   "cell_type": "code",
   "execution_count": 20,
   "outputs": [
    {
     "name": "stdout",
     "output_type": "stream",
     "text": [
      "[1, 10, 7]\n"
     ]
    }
   ],
   "source": [
    "\"\"\"\n",
    "        testing get_random_state\n",
    "    \"\"\"\n",
    "print(problem.get_random_state())"
   ],
   "metadata": {
    "collapsed": false
   }
  },
  {
   "cell_type": "code",
   "execution_count": 21,
   "outputs": [
    {
     "name": "stdout",
     "output_type": "stream",
     "text": [
      "5.625\n"
     ]
    }
   ],
   "source": [
    "# testing calculate_computer_value_for_employee\n",
    "# what we want: 5.625\n",
    "print(\n",
    "    problem.calculate_computer_value_for_employee(computers.iloc[0], employees.iloc[0])\n",
    ")\n",
    "# what we got"
   ],
   "metadata": {
    "collapsed": false
   }
  },
  {
   "cell_type": "code",
   "execution_count": 22,
   "outputs": [
    {
     "name": "stdout",
     "output_type": "stream",
     "text": [
      "all:\n",
      "5.625\n",
      "6.85\n",
      "6.775\n",
      "The one:\n",
      "6.85\n"
     ]
    }
   ],
   "source": [
    "# test get_best_from_three_for_employee\n",
    "print(\"all:\")\n",
    "for i in [j for j in range(3)]:\n",
    "    print(\n",
    "        problem.calculate_computer_value_for_employee(\n",
    "            computers.iloc[i], employees.iloc[0]\n",
    "        )\n",
    "    )\n",
    "\n",
    "print(\n",
    "    \"The one:\\n\",\n",
    "    problem.get_best_from_three_for_employee([i for i in range(3)], employees.iloc[0]),\n",
    "    sep=\"\",\n",
    ")"
   ],
   "metadata": {
    "collapsed": false
   }
  },
  {
   "cell_type": "code",
   "execution_count": 23,
   "outputs": [
    {
     "name": "stdout",
     "output_type": "stream",
     "text": [
      "True\n"
     ]
    }
   ],
   "source": [
    "# test state cost\n",
    "sum_all = 0\n",
    "for _, e in employees.iterrows():\n",
    "    sum_all += problem.get_best_from_three_for_employee([i for i in range(3)], e)\n",
    "\n",
    "print(problem.calculate_state_cost([i for i in range(3)]) == sum_all, sep=\"\")"
   ],
   "metadata": {
    "collapsed": false
   }
  },
  {
   "cell_type": "code",
   "execution_count": 24,
   "outputs": [
    {
     "name": "stdout",
     "output_type": "stream",
     "text": [
      "14.375000000002387\n",
      "  830.0000000000009 \n",
      "- 815.6249999999985 \n",
      "\t\t=\n",
      "  14.375000000002387\n"
     ]
    }
   ],
   "source": [
    "# test improvement\n",
    "old_state = [1, 3, 7]\n",
    "new_state = [5, 3, 7]\n",
    "print(problem.improvement(new_state, old_state))\n",
    "\n",
    "print(\n",
    "    \" \",\n",
    "    problem.calculate_state_cost(new_state),\n",
    "    \"\\n-\",\n",
    "    problem.calculate_state_cost(old_state),\n",
    "    \"\\n\\t\\t=\\n \",\n",
    "    problem.calculate_state_cost(new_state) - problem.calculate_state_cost(old_state),\n",
    ")"
   ],
   "metadata": {
    "collapsed": false
   }
  },
  {
   "cell_type": "code",
   "execution_count": 25,
   "outputs": [
    {
     "name": "stdout",
     "output_type": "stream",
     "text": [
      "True\n",
      "1\n"
     ]
    }
   ],
   "source": [
    "# test random neighbour\n",
    "generator = problem.get_random_neighbour(old_state)\n",
    "new = next(generator)\n",
    "print(len(new) == len(old_state))\n",
    "print(len([i for i in range(len(old_state)) if new[i] != old_state[i]]))"
   ],
   "metadata": {
    "collapsed": false
   }
  },
  {
   "cell_type": "code",
   "execution_count": 26,
   "outputs": [],
   "source": [
    "from simulated_annealing import SimulatedAnnealing, SimulatedAnnealingConfig\n",
    "\n",
    "config = SimulatedAnnealingConfig()\n",
    "simulation = SimulatedAnnealing(config, problem)"
   ],
   "metadata": {
    "collapsed": false
   }
  },
  {
   "cell_type": "code",
   "execution_count": 27,
   "outputs": [
    {
     "name": "stdout",
     "output_type": "stream",
     "text": [
      "SOLUTION:\n",
      " Best: [5, 1, 4]\n"
     ]
    }
   ],
   "source": [
    "simulation.solve()"
   ],
   "metadata": {
    "collapsed": false
   }
  },
  {
   "cell_type": "code",
   "execution_count": 30,
   "outputs": [
    {
     "data": {
      "text/plain": "847.0250000000007"
     },
     "execution_count": 30,
     "metadata": {},
     "output_type": "execute_result"
    }
   ],
   "source": [
    "problem.calculate_state_cost([1, 4, 9])"
   ],
   "metadata": {
    "collapsed": false
   }
  },
  {
   "cell_type": "code",
   "execution_count": 32,
   "outputs": [
    {
     "data": {
      "text/plain": "852.549999999999"
     },
     "execution_count": 32,
     "metadata": {},
     "output_type": "execute_result"
    }
   ],
   "source": [
    "problem.calculate_state_cost([1, 5, 4])"
   ],
   "metadata": {
    "collapsed": false
   }
  },
  {
   "cell_type": "code",
   "execution_count": 34,
   "outputs": [
    {
     "name": "stdout",
     "output_type": "stream",
     "text": [
      "SOLUTION:\n",
      " Best: [1, 4, 5]\n"
     ]
    }
   ],
   "source": [
    "from stupid_solution import Stupid\n",
    "\n",
    "\n",
    "stupid = Stupid(problem)\n",
    "stupid.solve()"
   ],
   "metadata": {
    "collapsed": false
   }
  },
  {
   "cell_type": "code",
   "execution_count": 50,
   "outputs": [
    {
     "data": {
      "text/plain": "   computer_id  memory  processing   storage  inverse_price\n0           13    0.00    0.500000  1.000000            2.7\n1           16    1.00    0.666667  0.833333            1.3\n2            4    0.75    0.833333  1.000000            1.0\n3            1    0.75    0.666667  0.833333            1.7\n4            3    0.00    0.000000  0.000000            5.7",
      "text/html": "<div>\n<style scoped>\n    .dataframe tbody tr th:only-of-type {\n        vertical-align: middle;\n    }\n\n    .dataframe tbody tr th {\n        vertical-align: top;\n    }\n\n    .dataframe thead th {\n        text-align: right;\n    }\n</style>\n<table border=\"1\" class=\"dataframe\">\n  <thead>\n    <tr style=\"text-align: right;\">\n      <th></th>\n      <th>computer_id</th>\n      <th>memory</th>\n      <th>processing</th>\n      <th>storage</th>\n      <th>inverse_price</th>\n    </tr>\n  </thead>\n  <tbody>\n    <tr>\n      <th>0</th>\n      <td>13</td>\n      <td>0.00</td>\n      <td>0.500000</td>\n      <td>1.000000</td>\n      <td>2.7</td>\n    </tr>\n    <tr>\n      <th>1</th>\n      <td>16</td>\n      <td>1.00</td>\n      <td>0.666667</td>\n      <td>0.833333</td>\n      <td>1.3</td>\n    </tr>\n    <tr>\n      <th>2</th>\n      <td>4</td>\n      <td>0.75</td>\n      <td>0.833333</td>\n      <td>1.000000</td>\n      <td>1.0</td>\n    </tr>\n    <tr>\n      <th>3</th>\n      <td>1</td>\n      <td>0.75</td>\n      <td>0.666667</td>\n      <td>0.833333</td>\n      <td>1.7</td>\n    </tr>\n    <tr>\n      <th>4</th>\n      <td>3</td>\n      <td>0.00</td>\n      <td>0.000000</td>\n      <td>0.000000</td>\n      <td>5.7</td>\n    </tr>\n  </tbody>\n</table>\n</div>"
     },
     "execution_count": 50,
     "metadata": {},
     "output_type": "execute_result"
    }
   ],
   "source": [
    "from sklearn.preprocessing import MinMaxScaler\n",
    "\n",
    "scaler = MinMaxScaler()\n",
    "data_columns = computers.columns[1:4]\n",
    "\n",
    "part = DataFrame(scaler.fit_transform(computers_min_max.iloc[:, 1:4]))\n",
    "computers_min_max[data_columns] = part\n",
    "computers_min_max.head()"
   ],
   "metadata": {
    "collapsed": false
   }
  },
  {
   "cell_type": "code",
   "execution_count": 51,
   "outputs": [
    {
     "data": {
      "text/plain": "    computer_id  memory  processing  storage  inverse_price\n0            13       5           7       10            2.7\n1            16       9           8        9            1.3\n2             4       8           9       10            1.0\n3             1       8           8        9            1.7\n4             3       5           4        4            5.7\n5             2       6           7        7            3.3\n6            20       7          10        7            2.0\n7             8       9           6        9            2.0\n8             9       9           8        7            2.0\n9             7       7           7        9            2.3\n10           12       8           9       10            1.0",
      "text/html": "<div>\n<style scoped>\n    .dataframe tbody tr th:only-of-type {\n        vertical-align: middle;\n    }\n\n    .dataframe tbody tr th {\n        vertical-align: top;\n    }\n\n    .dataframe thead th {\n        text-align: right;\n    }\n</style>\n<table border=\"1\" class=\"dataframe\">\n  <thead>\n    <tr style=\"text-align: right;\">\n      <th></th>\n      <th>computer_id</th>\n      <th>memory</th>\n      <th>processing</th>\n      <th>storage</th>\n      <th>inverse_price</th>\n    </tr>\n  </thead>\n  <tbody>\n    <tr>\n      <th>0</th>\n      <td>13</td>\n      <td>5</td>\n      <td>7</td>\n      <td>10</td>\n      <td>2.7</td>\n    </tr>\n    <tr>\n      <th>1</th>\n      <td>16</td>\n      <td>9</td>\n      <td>8</td>\n      <td>9</td>\n      <td>1.3</td>\n    </tr>\n    <tr>\n      <th>2</th>\n      <td>4</td>\n      <td>8</td>\n      <td>9</td>\n      <td>10</td>\n      <td>1.0</td>\n    </tr>\n    <tr>\n      <th>3</th>\n      <td>1</td>\n      <td>8</td>\n      <td>8</td>\n      <td>9</td>\n      <td>1.7</td>\n    </tr>\n    <tr>\n      <th>4</th>\n      <td>3</td>\n      <td>5</td>\n      <td>4</td>\n      <td>4</td>\n      <td>5.7</td>\n    </tr>\n    <tr>\n      <th>5</th>\n      <td>2</td>\n      <td>6</td>\n      <td>7</td>\n      <td>7</td>\n      <td>3.3</td>\n    </tr>\n    <tr>\n      <th>6</th>\n      <td>20</td>\n      <td>7</td>\n      <td>10</td>\n      <td>7</td>\n      <td>2.0</td>\n    </tr>\n    <tr>\n      <th>7</th>\n      <td>8</td>\n      <td>9</td>\n      <td>6</td>\n      <td>9</td>\n      <td>2.0</td>\n    </tr>\n    <tr>\n      <th>8</th>\n      <td>9</td>\n      <td>9</td>\n      <td>8</td>\n      <td>7</td>\n      <td>2.0</td>\n    </tr>\n    <tr>\n      <th>9</th>\n      <td>7</td>\n      <td>7</td>\n      <td>7</td>\n      <td>9</td>\n      <td>2.3</td>\n    </tr>\n    <tr>\n      <th>10</th>\n      <td>12</td>\n      <td>8</td>\n      <td>9</td>\n      <td>10</td>\n      <td>1.0</td>\n    </tr>\n  </tbody>\n</table>\n</div>"
     },
     "execution_count": 51,
     "metadata": {},
     "output_type": "execute_result"
    }
   ],
   "source": [
    "computers"
   ],
   "metadata": {
    "collapsed": false
   }
  },
  {
   "cell_type": "code",
   "execution_count": 57,
   "outputs": [],
   "source": [
    "from sklearn.preprocessing import minmax_scale\n",
    "from copy import deepcopy\n",
    "\n",
    "\n",
    "computers_min_max = deepcopy(computers)\n",
    "# computers_min_max[['inverse_price']] = minmax_scale(computers_min_max[['inverse_price']])"
   ],
   "metadata": {
    "collapsed": false
   }
  },
  {
   "cell_type": "code",
   "execution_count": 61,
   "outputs": [
    {
     "name": "stdout",
     "output_type": "stream",
     "text": [
      "1.0\n"
     ]
    }
   ],
   "source": [
    "print(max(computers_min_max[\"inverse_price\"]))\n",
    "computers_min_max[\"inverse_price\"] = pd.DataFrame(\n",
    "    data=computers_min_max[\"inverse_price\"]\n",
    "    / max(computers_min_max[\"inverse_price\"])\n",
    "    * 10\n",
    ")"
   ],
   "metadata": {
    "collapsed": false
   }
  },
  {
   "cell_type": "code",
   "execution_count": 65,
   "outputs": [
    {
     "name": "stdout",
     "output_type": "stream",
     "text": [
      "1.7543859649122806\n"
     ]
    }
   ],
   "source": [
    "print(min(computers_min_max[\"inverse_price\"]))"
   ],
   "metadata": {
    "collapsed": false
   }
  },
  {
   "cell_type": "code",
   "execution_count": 42,
   "outputs": [
    {
     "data": {
      "text/plain": "    computer_id  memory  processing  storage  inverse_price\n0            13       5           7       10            2.7\n1            16       9           8        9            1.3\n2             4       8           9       10            1.0\n3             1       8           8        9            1.7\n4             3       5           4        4            5.7\n5             2       6           7        7            3.3\n6            20       7          10        7            2.0\n7             8       9           6        9            2.0\n8             9       9           8        7            2.0\n9             7       7           7        9            2.3\n10           12       8           9       10            1.0",
      "text/html": "<div>\n<style scoped>\n    .dataframe tbody tr th:only-of-type {\n        vertical-align: middle;\n    }\n\n    .dataframe tbody tr th {\n        vertical-align: top;\n    }\n\n    .dataframe thead th {\n        text-align: right;\n    }\n</style>\n<table border=\"1\" class=\"dataframe\">\n  <thead>\n    <tr style=\"text-align: right;\">\n      <th></th>\n      <th>computer_id</th>\n      <th>memory</th>\n      <th>processing</th>\n      <th>storage</th>\n      <th>inverse_price</th>\n    </tr>\n  </thead>\n  <tbody>\n    <tr>\n      <th>0</th>\n      <td>13</td>\n      <td>5</td>\n      <td>7</td>\n      <td>10</td>\n      <td>2.7</td>\n    </tr>\n    <tr>\n      <th>1</th>\n      <td>16</td>\n      <td>9</td>\n      <td>8</td>\n      <td>9</td>\n      <td>1.3</td>\n    </tr>\n    <tr>\n      <th>2</th>\n      <td>4</td>\n      <td>8</td>\n      <td>9</td>\n      <td>10</td>\n      <td>1.0</td>\n    </tr>\n    <tr>\n      <th>3</th>\n      <td>1</td>\n      <td>8</td>\n      <td>8</td>\n      <td>9</td>\n      <td>1.7</td>\n    </tr>\n    <tr>\n      <th>4</th>\n      <td>3</td>\n      <td>5</td>\n      <td>4</td>\n      <td>4</td>\n      <td>5.7</td>\n    </tr>\n    <tr>\n      <th>5</th>\n      <td>2</td>\n      <td>6</td>\n      <td>7</td>\n      <td>7</td>\n      <td>3.3</td>\n    </tr>\n    <tr>\n      <th>6</th>\n      <td>20</td>\n      <td>7</td>\n      <td>10</td>\n      <td>7</td>\n      <td>2.0</td>\n    </tr>\n    <tr>\n      <th>7</th>\n      <td>8</td>\n      <td>9</td>\n      <td>6</td>\n      <td>9</td>\n      <td>2.0</td>\n    </tr>\n    <tr>\n      <th>8</th>\n      <td>9</td>\n      <td>9</td>\n      <td>8</td>\n      <td>7</td>\n      <td>2.0</td>\n    </tr>\n    <tr>\n      <th>9</th>\n      <td>7</td>\n      <td>7</td>\n      <td>7</td>\n      <td>9</td>\n      <td>2.3</td>\n    </tr>\n    <tr>\n      <th>10</th>\n      <td>12</td>\n      <td>8</td>\n      <td>9</td>\n      <td>10</td>\n      <td>1.0</td>\n    </tr>\n  </tbody>\n</table>\n</div>"
     },
     "execution_count": 42,
     "metadata": {},
     "output_type": "execute_result"
    }
   ],
   "source": [
    "computers_min_max"
   ],
   "metadata": {
    "collapsed": false
   }
  },
  {
   "cell_type": "code",
   "execution_count": null,
   "outputs": [],
   "source": [],
   "metadata": {
    "collapsed": false
   }
  }
 ],
 "metadata": {
  "kernelspec": {
   "display_name": "Python 3",
   "language": "python",
   "name": "python3"
  },
  "language_info": {
   "codemirror_mode": {
    "name": "ipython",
    "version": 2
   },
   "file_extension": ".py",
   "mimetype": "text/x-python",
   "name": "python",
   "nbconvert_exporter": "python",
   "pygments_lexer": "ipython2",
   "version": "2.7.6"
  }
 },
 "nbformat": 4,
 "nbformat_minor": 0
}
