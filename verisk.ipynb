{
 "cells": [
  {
   "cell_type": "markdown",
   "source": [
    "# Verisk - computer purchase problem\n",
    "\n",
    "*by Jolanta Śliwa*"
   ],
   "metadata": {
    "collapsed": false
   }
  },
  {
   "cell_type": "markdown",
   "source": [
    "## Problem Statement\n",
    "Suppose you're trying to help a company determine which computers to purchase.\n",
    "### Data - utilization data by employee:\n",
    "The company has been able to pull utilization data by employee that classifies users into 3 bins, depending on how much they use their computer in their work:\n",
    "* Low usage - spends a lot of time in meetings, checking email, doing people management\n",
    "* Average usage - requires some compute power, with balanced mix of heads down/technical work along with a\n",
    "good amount of meetings/email writing\n",
    "* High usage - power user, relies heavily on computer performance\n"
   ],
   "metadata": {
    "collapsed": false
   }
  },
  {
   "cell_type": "code",
   "execution_count": 37,
   "metadata": {
    "collapsed": true
   },
   "outputs": [],
   "source": [
    "import pandas as pd\n",
    "\n",
    "\n",
    "utilization = pd.read_csv(\n",
    "    \"https://raw.githubusercontent.com/shubhamkalra27/dsep-2020/main/datasets/util_b_emp.csv\"\n",
    ")"
   ]
  },
  {
   "cell_type": "code",
   "execution_count": 38,
   "outputs": [
    {
     "name": "stdout",
     "output_type": "stream",
     "text": [
      "<class 'pandas.core.frame.DataFrame'>\n",
      "RangeIndex: 146 entries, 0 to 145\n",
      "Data columns (total 2 columns):\n",
      " #   Column           Non-Null Count  Dtype \n",
      "---  ------           --------------  ----- \n",
      " 0   employee_id      146 non-null    int64 \n",
      " 1   utilization_bin  146 non-null    object\n",
      "dtypes: int64(1), object(1)\n",
      "memory usage: 2.4+ KB\n",
      "<class 'pandas.core.frame.DataFrame'>\n",
      "RangeIndex: 146 entries, 0 to 145\n",
      "Data columns (total 2 columns):\n",
      " #   Column           Non-Null Count  Dtype \n",
      "---  ------           --------------  ----- \n",
      " 0   employee_id      146 non-null    int64 \n",
      " 1   utilization_bin  146 non-null    object\n",
      "dtypes: int64(1), object(1)\n",
      "memory usage: 2.4+ KB\n"
     ]
    }
   ],
   "source": [
    "utilization.info()"
   ],
   "metadata": {
    "collapsed": false
   }
  },
  {
   "cell_type": "code",
   "execution_count": 39,
   "outputs": [
    {
     "data": {
      "text/plain": "   employee_id utilization_bin\n0         1743            high\n1         1752            high\n2         1758            high\n3         1825            high\n4         1842            high",
      "text/html": "<div>\n<style scoped>\n    .dataframe tbody tr th:only-of-type {\n        vertical-align: middle;\n    }\n\n    .dataframe tbody tr th {\n        vertical-align: top;\n    }\n\n    .dataframe thead th {\n        text-align: right;\n    }\n</style>\n<table border=\"1\" class=\"dataframe\">\n  <thead>\n    <tr style=\"text-align: right;\">\n      <th></th>\n      <th>employee_id</th>\n      <th>utilization_bin</th>\n    </tr>\n  </thead>\n  <tbody>\n    <tr>\n      <th>0</th>\n      <td>1743</td>\n      <td>high</td>\n    </tr>\n    <tr>\n      <th>1</th>\n      <td>1752</td>\n      <td>high</td>\n    </tr>\n    <tr>\n      <th>2</th>\n      <td>1758</td>\n      <td>high</td>\n    </tr>\n    <tr>\n      <th>3</th>\n      <td>1825</td>\n      <td>high</td>\n    </tr>\n    <tr>\n      <th>4</th>\n      <td>1842</td>\n      <td>high</td>\n    </tr>\n  </tbody>\n</table>\n</div>"
     },
     "execution_count": 3,
     "metadata": {},
     "output_type": "execute_result"
    },
    {
     "data": {
      "text/plain": "   employee_id utilization_bin\n0         1743            high\n1         1752            high\n2         1758            high\n3         1825            high\n4         1842            high",
      "text/html": "<div>\n<style scoped>\n    .dataframe tbody tr th:only-of-type {\n        vertical-align: middle;\n    }\n\n    .dataframe tbody tr th {\n        vertical-align: top;\n    }\n\n    .dataframe thead th {\n        text-align: right;\n    }\n</style>\n<table border=\"1\" class=\"dataframe\">\n  <thead>\n    <tr style=\"text-align: right;\">\n      <th></th>\n      <th>employee_id</th>\n      <th>utilization_bin</th>\n    </tr>\n  </thead>\n  <tbody>\n    <tr>\n      <th>0</th>\n      <td>1743</td>\n      <td>high</td>\n    </tr>\n    <tr>\n      <th>1</th>\n      <td>1752</td>\n      <td>high</td>\n    </tr>\n    <tr>\n      <th>2</th>\n      <td>1758</td>\n      <td>high</td>\n    </tr>\n    <tr>\n      <th>3</th>\n      <td>1825</td>\n      <td>high</td>\n    </tr>\n    <tr>\n      <th>4</th>\n      <td>1842</td>\n      <td>high</td>\n    </tr>\n  </tbody>\n</table>\n</div>"
     },
     "execution_count": 39,
     "metadata": {},
     "output_type": "execute_result"
    }
   ],
   "source": [
    "utilization.head()"
   ],
   "metadata": {
    "collapsed": false
   }
  },
  {
   "cell_type": "code",
   "execution_count": 40,
   "outputs": [
    {
     "data": {
      "text/plain": "array(['high', 'medium', 'low'], dtype=object)"
     },
     "execution_count": 4,
     "metadata": {},
     "output_type": "execute_result"
    },
    {
     "data": {
      "text/plain": "array(['high', 'medium', 'low'], dtype=object)"
     },
     "execution_count": 40,
     "metadata": {},
     "output_type": "execute_result"
    }
   ],
   "source": [
    "utilization[\"utilization_bin\"].unique()"
   ],
   "metadata": {
    "collapsed": false
   }
  },
  {
   "cell_type": "markdown",
   "source": [
    "## Data - survey\n",
    "Additionally, they've surveyed employees to collect the relative importance of the following variables describing a\n",
    "computer's performance:\n",
    "* Memory\n",
    "* Processing\n",
    "* Storage\n",
    "* Price inverse - this metric was given to you by the company as you can see in the dataset, with the directive that\n",
    "price inverse being fixed at a 25% weight in the purchase decision"
   ],
   "metadata": {
    "collapsed": false
   }
  },
  {
   "cell_type": "code",
   "execution_count": 41,
   "outputs": [],
   "source": [
    "survey = pd.read_csv(\n",
    "    \"https://raw.githubusercontent.com/shubhamkalra27/dsep-2020/main/datasets/survey_emp.csv\"\n",
    ")"
   ],
   "metadata": {
    "collapsed": false
   }
  },
  {
   "cell_type": "code",
   "execution_count": 42,
   "outputs": [
    {
     "name": "stdout",
     "output_type": "stream",
     "text": [
      "<class 'pandas.core.frame.DataFrame'>\n",
      "RangeIndex: 146 entries, 0 to 145\n",
      "Data columns (total 5 columns):\n",
      " #   Column         Non-Null Count  Dtype  \n",
      "---  ------         --------------  -----  \n",
      " 0   employee_id    146 non-null    int64  \n",
      " 1   memory         146 non-null    float64\n",
      " 2   processing     146 non-null    float64\n",
      " 3   storage        146 non-null    float64\n",
      " 4   inverse_price  146 non-null    float64\n",
      "dtypes: float64(4), int64(1)\n",
      "memory usage: 5.8 KB\n",
      "<class 'pandas.core.frame.DataFrame'>\n",
      "RangeIndex: 146 entries, 0 to 145\n",
      "Data columns (total 5 columns):\n",
      " #   Column         Non-Null Count  Dtype  \n",
      "---  ------         --------------  -----  \n",
      " 0   employee_id    146 non-null    int64  \n",
      " 1   memory         146 non-null    float64\n",
      " 2   processing     146 non-null    float64\n",
      " 3   storage        146 non-null    float64\n",
      " 4   inverse_price  146 non-null    float64\n",
      "dtypes: float64(4), int64(1)\n",
      "memory usage: 5.8 KB\n"
     ]
    }
   ],
   "source": [
    "survey.info()"
   ],
   "metadata": {
    "collapsed": false
   }
  },
  {
   "cell_type": "code",
   "execution_count": 43,
   "outputs": [
    {
     "data": {
      "text/plain": "   employee_id  memory  processing  storage  inverse_price\n0         1743   0.375       0.225    0.150           0.25\n1         1752   0.450       0.225    0.075           0.25\n2         1758   0.375       0.300    0.075           0.25\n3         1825   0.300       0.300    0.150           0.25\n4         1842   0.300       0.300    0.150           0.25",
      "text/html": "<div>\n<style scoped>\n    .dataframe tbody tr th:only-of-type {\n        vertical-align: middle;\n    }\n\n    .dataframe tbody tr th {\n        vertical-align: top;\n    }\n\n    .dataframe thead th {\n        text-align: right;\n    }\n</style>\n<table border=\"1\" class=\"dataframe\">\n  <thead>\n    <tr style=\"text-align: right;\">\n      <th></th>\n      <th>employee_id</th>\n      <th>memory</th>\n      <th>processing</th>\n      <th>storage</th>\n      <th>inverse_price</th>\n    </tr>\n  </thead>\n  <tbody>\n    <tr>\n      <th>0</th>\n      <td>1743</td>\n      <td>0.375</td>\n      <td>0.225</td>\n      <td>0.150</td>\n      <td>0.25</td>\n    </tr>\n    <tr>\n      <th>1</th>\n      <td>1752</td>\n      <td>0.450</td>\n      <td>0.225</td>\n      <td>0.075</td>\n      <td>0.25</td>\n    </tr>\n    <tr>\n      <th>2</th>\n      <td>1758</td>\n      <td>0.375</td>\n      <td>0.300</td>\n      <td>0.075</td>\n      <td>0.25</td>\n    </tr>\n    <tr>\n      <th>3</th>\n      <td>1825</td>\n      <td>0.300</td>\n      <td>0.300</td>\n      <td>0.150</td>\n      <td>0.25</td>\n    </tr>\n    <tr>\n      <th>4</th>\n      <td>1842</td>\n      <td>0.300</td>\n      <td>0.300</td>\n      <td>0.150</td>\n      <td>0.25</td>\n    </tr>\n  </tbody>\n</table>\n</div>"
     },
     "execution_count": 7,
     "metadata": {},
     "output_type": "execute_result"
    },
    {
     "data": {
      "text/plain": "   employee_id  memory  processing  storage  inverse_price\n0         1743   0.375       0.225    0.150           0.25\n1         1752   0.450       0.225    0.075           0.25\n2         1758   0.375       0.300    0.075           0.25\n3         1825   0.300       0.300    0.150           0.25\n4         1842   0.300       0.300    0.150           0.25",
      "text/html": "<div>\n<style scoped>\n    .dataframe tbody tr th:only-of-type {\n        vertical-align: middle;\n    }\n\n    .dataframe tbody tr th {\n        vertical-align: top;\n    }\n\n    .dataframe thead th {\n        text-align: right;\n    }\n</style>\n<table border=\"1\" class=\"dataframe\">\n  <thead>\n    <tr style=\"text-align: right;\">\n      <th></th>\n      <th>employee_id</th>\n      <th>memory</th>\n      <th>processing</th>\n      <th>storage</th>\n      <th>inverse_price</th>\n    </tr>\n  </thead>\n  <tbody>\n    <tr>\n      <th>0</th>\n      <td>1743</td>\n      <td>0.375</td>\n      <td>0.225</td>\n      <td>0.150</td>\n      <td>0.25</td>\n    </tr>\n    <tr>\n      <th>1</th>\n      <td>1752</td>\n      <td>0.450</td>\n      <td>0.225</td>\n      <td>0.075</td>\n      <td>0.25</td>\n    </tr>\n    <tr>\n      <th>2</th>\n      <td>1758</td>\n      <td>0.375</td>\n      <td>0.300</td>\n      <td>0.075</td>\n      <td>0.25</td>\n    </tr>\n    <tr>\n      <th>3</th>\n      <td>1825</td>\n      <td>0.300</td>\n      <td>0.300</td>\n      <td>0.150</td>\n      <td>0.25</td>\n    </tr>\n    <tr>\n      <th>4</th>\n      <td>1842</td>\n      <td>0.300</td>\n      <td>0.300</td>\n      <td>0.150</td>\n      <td>0.25</td>\n    </tr>\n  </tbody>\n</table>\n</div>"
     },
     "execution_count": 43,
     "metadata": {},
     "output_type": "execute_result"
    }
   ],
   "source": [
    "survey.head()"
   ],
   "metadata": {
    "collapsed": false
   }
  },
  {
   "cell_type": "code",
   "execution_count": 44,
   "outputs": [
    {
     "name": "stdout",
     "output_type": "stream",
     "text": [
      "ok\n",
      "ok\n"
     ]
    }
   ],
   "source": [
    "for i, row in survey.iterrows():\n",
    "    if sum(row[1:]) != 1:\n",
    "        print(\"problem\")\n",
    "        break\n",
    "print(\"ok\")"
   ],
   "metadata": {
    "collapsed": false
   }
  },
  {
   "cell_type": "markdown",
   "source": [
    "## Data - computers\n",
    "Lastly, the company is looking to purchase a maximum of 3 different computer models, and have compiled the following\n",
    "list scoring their memory, processing, storage, and relative price. Each dimension is scored from 0-10, with 10 being the best."
   ],
   "metadata": {
    "collapsed": false
   }
  },
  {
   "cell_type": "code",
   "execution_count": 45,
   "outputs": [],
   "source": [
    "computers = pd.read_csv(\n",
    "    \"https://raw.githubusercontent.com/shubhamkalra27/dsep-2020/main/datasets/vendor_options.csv\"\n",
    ")"
   ],
   "metadata": {
    "collapsed": false
   }
  },
  {
   "cell_type": "code",
   "execution_count": 46,
   "outputs": [
    {
     "name": "stdout",
     "output_type": "stream",
     "text": [
      "<class 'pandas.core.frame.DataFrame'>\n",
      "RangeIndex: 11 entries, 0 to 10\n",
      "Data columns (total 5 columns):\n",
      " #   Column         Non-Null Count  Dtype  \n",
      "---  ------         --------------  -----  \n",
      " 0   computer_id    11 non-null     int64  \n",
      " 1   memory         11 non-null     int64  \n",
      " 2   processing     11 non-null     int64  \n",
      " 3   storage        11 non-null     int64  \n",
      " 4   inverse_price  11 non-null     float64\n",
      "dtypes: float64(1), int64(4)\n",
      "memory usage: 568.0 bytes\n",
      "<class 'pandas.core.frame.DataFrame'>\n",
      "RangeIndex: 11 entries, 0 to 10\n",
      "Data columns (total 5 columns):\n",
      " #   Column         Non-Null Count  Dtype  \n",
      "---  ------         --------------  -----  \n",
      " 0   computer_id    11 non-null     int64  \n",
      " 1   memory         11 non-null     int64  \n",
      " 2   processing     11 non-null     int64  \n",
      " 3   storage        11 non-null     int64  \n",
      " 4   inverse_price  11 non-null     float64\n",
      "dtypes: float64(1), int64(4)\n",
      "memory usage: 568.0 bytes\n"
     ]
    }
   ],
   "source": [
    "computers.info()"
   ],
   "metadata": {
    "collapsed": false
   }
  },
  {
   "cell_type": "code",
   "execution_count": 47,
   "outputs": [
    {
     "data": {
      "text/plain": "   computer_id  memory  processing  storage  inverse_price\n0           13       5           7       10            2.7\n1           16       9           8        9            1.3\n2            4       8           9       10            1.0\n3            1       8           8        9            1.7\n4            3       5           4        4            5.7",
      "text/html": "<div>\n<style scoped>\n    .dataframe tbody tr th:only-of-type {\n        vertical-align: middle;\n    }\n\n    .dataframe tbody tr th {\n        vertical-align: top;\n    }\n\n    .dataframe thead th {\n        text-align: right;\n    }\n</style>\n<table border=\"1\" class=\"dataframe\">\n  <thead>\n    <tr style=\"text-align: right;\">\n      <th></th>\n      <th>computer_id</th>\n      <th>memory</th>\n      <th>processing</th>\n      <th>storage</th>\n      <th>inverse_price</th>\n    </tr>\n  </thead>\n  <tbody>\n    <tr>\n      <th>0</th>\n      <td>13</td>\n      <td>5</td>\n      <td>7</td>\n      <td>10</td>\n      <td>2.7</td>\n    </tr>\n    <tr>\n      <th>1</th>\n      <td>16</td>\n      <td>9</td>\n      <td>8</td>\n      <td>9</td>\n      <td>1.3</td>\n    </tr>\n    <tr>\n      <th>2</th>\n      <td>4</td>\n      <td>8</td>\n      <td>9</td>\n      <td>10</td>\n      <td>1.0</td>\n    </tr>\n    <tr>\n      <th>3</th>\n      <td>1</td>\n      <td>8</td>\n      <td>8</td>\n      <td>9</td>\n      <td>1.7</td>\n    </tr>\n    <tr>\n      <th>4</th>\n      <td>3</td>\n      <td>5</td>\n      <td>4</td>\n      <td>4</td>\n      <td>5.7</td>\n    </tr>\n  </tbody>\n</table>\n</div>"
     },
     "execution_count": 11,
     "metadata": {},
     "output_type": "execute_result"
    },
    {
     "data": {
      "text/plain": "   computer_id  memory  processing  storage  inverse_price\n0           13       5           7       10            2.7\n1           16       9           8        9            1.3\n2            4       8           9       10            1.0\n3            1       8           8        9            1.7\n4            3       5           4        4            5.7",
      "text/html": "<div>\n<style scoped>\n    .dataframe tbody tr th:only-of-type {\n        vertical-align: middle;\n    }\n\n    .dataframe tbody tr th {\n        vertical-align: top;\n    }\n\n    .dataframe thead th {\n        text-align: right;\n    }\n</style>\n<table border=\"1\" class=\"dataframe\">\n  <thead>\n    <tr style=\"text-align: right;\">\n      <th></th>\n      <th>computer_id</th>\n      <th>memory</th>\n      <th>processing</th>\n      <th>storage</th>\n      <th>inverse_price</th>\n    </tr>\n  </thead>\n  <tbody>\n    <tr>\n      <th>0</th>\n      <td>13</td>\n      <td>5</td>\n      <td>7</td>\n      <td>10</td>\n      <td>2.7</td>\n    </tr>\n    <tr>\n      <th>1</th>\n      <td>16</td>\n      <td>9</td>\n      <td>8</td>\n      <td>9</td>\n      <td>1.3</td>\n    </tr>\n    <tr>\n      <th>2</th>\n      <td>4</td>\n      <td>8</td>\n      <td>9</td>\n      <td>10</td>\n      <td>1.0</td>\n    </tr>\n    <tr>\n      <th>3</th>\n      <td>1</td>\n      <td>8</td>\n      <td>8</td>\n      <td>9</td>\n      <td>1.7</td>\n    </tr>\n    <tr>\n      <th>4</th>\n      <td>3</td>\n      <td>5</td>\n      <td>4</td>\n      <td>4</td>\n      <td>5.7</td>\n    </tr>\n  </tbody>\n</table>\n</div>"
     },
     "execution_count": 47,
     "metadata": {},
     "output_type": "execute_result"
    }
   ],
   "source": [
    "computers.head()"
   ],
   "metadata": {
    "collapsed": false
   }
  },
  {
   "cell_type": "code",
   "execution_count": 48,
   "outputs": [
    {
     "data": {
      "text/plain": "    computer_id  memory  processing  storage  inverse_price\n0            13       5           7       10            2.7\n1            16       9           8        9            1.3\n2             4       8           9       10            1.0\n3             1       8           8        9            1.7\n4             3       5           4        4            5.7\n5             2       6           7        7            3.3\n6            20       7          10        7            2.0\n7             8       9           6        9            2.0\n8             9       9           8        7            2.0\n9             7       7           7        9            2.3\n10           12       8           9       10            1.0",
      "text/html": "<div>\n<style scoped>\n    .dataframe tbody tr th:only-of-type {\n        vertical-align: middle;\n    }\n\n    .dataframe tbody tr th {\n        vertical-align: top;\n    }\n\n    .dataframe thead th {\n        text-align: right;\n    }\n</style>\n<table border=\"1\" class=\"dataframe\">\n  <thead>\n    <tr style=\"text-align: right;\">\n      <th></th>\n      <th>computer_id</th>\n      <th>memory</th>\n      <th>processing</th>\n      <th>storage</th>\n      <th>inverse_price</th>\n    </tr>\n  </thead>\n  <tbody>\n    <tr>\n      <th>0</th>\n      <td>13</td>\n      <td>5</td>\n      <td>7</td>\n      <td>10</td>\n      <td>2.7</td>\n    </tr>\n    <tr>\n      <th>1</th>\n      <td>16</td>\n      <td>9</td>\n      <td>8</td>\n      <td>9</td>\n      <td>1.3</td>\n    </tr>\n    <tr>\n      <th>2</th>\n      <td>4</td>\n      <td>8</td>\n      <td>9</td>\n      <td>10</td>\n      <td>1.0</td>\n    </tr>\n    <tr>\n      <th>3</th>\n      <td>1</td>\n      <td>8</td>\n      <td>8</td>\n      <td>9</td>\n      <td>1.7</td>\n    </tr>\n    <tr>\n      <th>4</th>\n      <td>3</td>\n      <td>5</td>\n      <td>4</td>\n      <td>4</td>\n      <td>5.7</td>\n    </tr>\n    <tr>\n      <th>5</th>\n      <td>2</td>\n      <td>6</td>\n      <td>7</td>\n      <td>7</td>\n      <td>3.3</td>\n    </tr>\n    <tr>\n      <th>6</th>\n      <td>20</td>\n      <td>7</td>\n      <td>10</td>\n      <td>7</td>\n      <td>2.0</td>\n    </tr>\n    <tr>\n      <th>7</th>\n      <td>8</td>\n      <td>9</td>\n      <td>6</td>\n      <td>9</td>\n      <td>2.0</td>\n    </tr>\n    <tr>\n      <th>8</th>\n      <td>9</td>\n      <td>9</td>\n      <td>8</td>\n      <td>7</td>\n      <td>2.0</td>\n    </tr>\n    <tr>\n      <th>9</th>\n      <td>7</td>\n      <td>7</td>\n      <td>7</td>\n      <td>9</td>\n      <td>2.3</td>\n    </tr>\n    <tr>\n      <th>10</th>\n      <td>12</td>\n      <td>8</td>\n      <td>9</td>\n      <td>10</td>\n      <td>1.0</td>\n    </tr>\n  </tbody>\n</table>\n</div>"
     },
     "execution_count": 12,
     "metadata": {},
     "output_type": "execute_result"
    },
    {
     "data": {
      "text/plain": "    computer_id  memory  processing  storage  inverse_price\n0            13       5           7       10            2.7\n1            16       9           8        9            1.3\n2             4       8           9       10            1.0\n3             1       8           8        9            1.7\n4             3       5           4        4            5.7\n5             2       6           7        7            3.3\n6            20       7          10        7            2.0\n7             8       9           6        9            2.0\n8             9       9           8        7            2.0\n9             7       7           7        9            2.3\n10           12       8           9       10            1.0",
      "text/html": "<div>\n<style scoped>\n    .dataframe tbody tr th:only-of-type {\n        vertical-align: middle;\n    }\n\n    .dataframe tbody tr th {\n        vertical-align: top;\n    }\n\n    .dataframe thead th {\n        text-align: right;\n    }\n</style>\n<table border=\"1\" class=\"dataframe\">\n  <thead>\n    <tr style=\"text-align: right;\">\n      <th></th>\n      <th>computer_id</th>\n      <th>memory</th>\n      <th>processing</th>\n      <th>storage</th>\n      <th>inverse_price</th>\n    </tr>\n  </thead>\n  <tbody>\n    <tr>\n      <th>0</th>\n      <td>13</td>\n      <td>5</td>\n      <td>7</td>\n      <td>10</td>\n      <td>2.7</td>\n    </tr>\n    <tr>\n      <th>1</th>\n      <td>16</td>\n      <td>9</td>\n      <td>8</td>\n      <td>9</td>\n      <td>1.3</td>\n    </tr>\n    <tr>\n      <th>2</th>\n      <td>4</td>\n      <td>8</td>\n      <td>9</td>\n      <td>10</td>\n      <td>1.0</td>\n    </tr>\n    <tr>\n      <th>3</th>\n      <td>1</td>\n      <td>8</td>\n      <td>8</td>\n      <td>9</td>\n      <td>1.7</td>\n    </tr>\n    <tr>\n      <th>4</th>\n      <td>3</td>\n      <td>5</td>\n      <td>4</td>\n      <td>4</td>\n      <td>5.7</td>\n    </tr>\n    <tr>\n      <th>5</th>\n      <td>2</td>\n      <td>6</td>\n      <td>7</td>\n      <td>7</td>\n      <td>3.3</td>\n    </tr>\n    <tr>\n      <th>6</th>\n      <td>20</td>\n      <td>7</td>\n      <td>10</td>\n      <td>7</td>\n      <td>2.0</td>\n    </tr>\n    <tr>\n      <th>7</th>\n      <td>8</td>\n      <td>9</td>\n      <td>6</td>\n      <td>9</td>\n      <td>2.0</td>\n    </tr>\n    <tr>\n      <th>8</th>\n      <td>9</td>\n      <td>9</td>\n      <td>8</td>\n      <td>7</td>\n      <td>2.0</td>\n    </tr>\n    <tr>\n      <th>9</th>\n      <td>7</td>\n      <td>7</td>\n      <td>7</td>\n      <td>9</td>\n      <td>2.3</td>\n    </tr>\n    <tr>\n      <th>10</th>\n      <td>12</td>\n      <td>8</td>\n      <td>9</td>\n      <td>10</td>\n      <td>1.0</td>\n    </tr>\n  </tbody>\n</table>\n</div>"
     },
     "execution_count": 48,
     "metadata": {},
     "output_type": "execute_result"
    }
   ],
   "source": [
    "computers"
   ],
   "metadata": {
    "collapsed": false
   }
  },
  {
   "cell_type": "code",
   "execution_count": 49,
   "outputs": [
    {
     "name": "stdout",
     "output_type": "stream",
     "text": [
      "computer_id      20.0\n",
      "memory            9.0\n",
      "processing       10.0\n",
      "storage          10.0\n",
      "inverse_price     5.7\n",
      "dtype: float64\n",
      "computer_id      20.0\n",
      "memory            9.0\n",
      "processing       10.0\n",
      "storage          10.0\n",
      "inverse_price     5.7\n",
      "dtype: float64\n"
     ]
    }
   ],
   "source": [
    "print(computers.max())"
   ],
   "metadata": {
    "collapsed": false
   }
  },
  {
   "cell_type": "code",
   "execution_count": 50,
   "outputs": [
    {
     "name": "stdout",
     "output_type": "stream",
     "text": [
      "computer_id      1.0\n",
      "memory           5.0\n",
      "processing       4.0\n",
      "storage          4.0\n",
      "inverse_price    1.0\n",
      "dtype: float64\n",
      "computer_id      1.0\n",
      "memory           5.0\n",
      "processing       4.0\n",
      "storage          4.0\n",
      "inverse_price    1.0\n",
      "dtype: float64\n"
     ]
    }
   ],
   "source": [
    "print(computers.min())"
   ],
   "metadata": {
    "collapsed": false
   }
  },
  {
   "cell_type": "markdown",
   "source": [
    "## Task\n",
    "**Given this information, provide the company with a recommendation on which computers to purchase.**"
   ],
   "metadata": {
    "collapsed": false
   }
  },
  {
   "cell_type": "markdown",
   "source": [
    "List of parameters:"
   ],
   "metadata": {
    "collapsed": false
   }
  },
  {
   "cell_type": "code",
   "execution_count": 51,
   "outputs": [
    {
     "name": "stdout",
     "output_type": "stream",
     "text": [
      "Index(['memory', 'processing', 'storage', 'inverse_price'], dtype='object')\n",
      "Index(['memory', 'processing', 'storage', 'inverse_price'], dtype='object')\n"
     ]
    }
   ],
   "source": [
    "parameters = computers.columns[1:]\n",
    "print(parameters)"
   ],
   "metadata": {
    "collapsed": false
   }
  },
  {
   "cell_type": "code",
   "execution_count": 52,
   "outputs": [],
   "source": [
    "employees = utilization.merge(survey, left_on=\"employee_id\", right_on=\"employee_id\")"
   ],
   "metadata": {
    "collapsed": false
   }
  },
  {
   "cell_type": "code",
   "execution_count": 53,
   "outputs": [
    {
     "name": "stdout",
     "output_type": "stream",
     "text": [
      "<class 'pandas.core.frame.DataFrame'>\n",
      "Int64Index: 146 entries, 0 to 145\n",
      "Data columns (total 6 columns):\n",
      " #   Column           Non-Null Count  Dtype  \n",
      "---  ------           --------------  -----  \n",
      " 0   employee_id      146 non-null    int64  \n",
      " 1   utilization_bin  146 non-null    object \n",
      " 2   memory           146 non-null    float64\n",
      " 3   processing       146 non-null    float64\n",
      " 4   storage          146 non-null    float64\n",
      " 5   inverse_price    146 non-null    float64\n",
      "dtypes: float64(4), int64(1), object(1)\n",
      "memory usage: 8.0+ KB\n",
      "<class 'pandas.core.frame.DataFrame'>\n",
      "Int64Index: 146 entries, 0 to 145\n",
      "Data columns (total 6 columns):\n",
      " #   Column           Non-Null Count  Dtype  \n",
      "---  ------           --------------  -----  \n",
      " 0   employee_id      146 non-null    int64  \n",
      " 1   utilization_bin  146 non-null    object \n",
      " 2   memory           146 non-null    float64\n",
      " 3   processing       146 non-null    float64\n",
      " 4   storage          146 non-null    float64\n",
      " 5   inverse_price    146 non-null    float64\n",
      "dtypes: float64(4), int64(1), object(1)\n",
      "memory usage: 8.0+ KB\n"
     ]
    }
   ],
   "source": [
    "employees.info()"
   ],
   "metadata": {
    "collapsed": false
   }
  },
  {
   "cell_type": "code",
   "execution_count": 54,
   "outputs": [
    {
     "data": {
      "text/plain": "   employee_id utilization_bin  memory  processing  storage  inverse_price\n0         1743            high   0.375       0.225    0.150           0.25\n1         1752            high   0.450       0.225    0.075           0.25\n2         1758            high   0.375       0.300    0.075           0.25\n3         1825            high   0.300       0.300    0.150           0.25\n4         1842            high   0.300       0.300    0.150           0.25",
      "text/html": "<div>\n<style scoped>\n    .dataframe tbody tr th:only-of-type {\n        vertical-align: middle;\n    }\n\n    .dataframe tbody tr th {\n        vertical-align: top;\n    }\n\n    .dataframe thead th {\n        text-align: right;\n    }\n</style>\n<table border=\"1\" class=\"dataframe\">\n  <thead>\n    <tr style=\"text-align: right;\">\n      <th></th>\n      <th>employee_id</th>\n      <th>utilization_bin</th>\n      <th>memory</th>\n      <th>processing</th>\n      <th>storage</th>\n      <th>inverse_price</th>\n    </tr>\n  </thead>\n  <tbody>\n    <tr>\n      <th>0</th>\n      <td>1743</td>\n      <td>high</td>\n      <td>0.375</td>\n      <td>0.225</td>\n      <td>0.150</td>\n      <td>0.25</td>\n    </tr>\n    <tr>\n      <th>1</th>\n      <td>1752</td>\n      <td>high</td>\n      <td>0.450</td>\n      <td>0.225</td>\n      <td>0.075</td>\n      <td>0.25</td>\n    </tr>\n    <tr>\n      <th>2</th>\n      <td>1758</td>\n      <td>high</td>\n      <td>0.375</td>\n      <td>0.300</td>\n      <td>0.075</td>\n      <td>0.25</td>\n    </tr>\n    <tr>\n      <th>3</th>\n      <td>1825</td>\n      <td>high</td>\n      <td>0.300</td>\n      <td>0.300</td>\n      <td>0.150</td>\n      <td>0.25</td>\n    </tr>\n    <tr>\n      <th>4</th>\n      <td>1842</td>\n      <td>high</td>\n      <td>0.300</td>\n      <td>0.300</td>\n      <td>0.150</td>\n      <td>0.25</td>\n    </tr>\n  </tbody>\n</table>\n</div>"
     },
     "execution_count": 18,
     "metadata": {},
     "output_type": "execute_result"
    },
    {
     "data": {
      "text/plain": "   employee_id utilization_bin  memory  processing  storage  inverse_price\n0         1743            high   0.375       0.225    0.150           0.25\n1         1752            high   0.450       0.225    0.075           0.25\n2         1758            high   0.375       0.300    0.075           0.25\n3         1825            high   0.300       0.300    0.150           0.25\n4         1842            high   0.300       0.300    0.150           0.25",
      "text/html": "<div>\n<style scoped>\n    .dataframe tbody tr th:only-of-type {\n        vertical-align: middle;\n    }\n\n    .dataframe tbody tr th {\n        vertical-align: top;\n    }\n\n    .dataframe thead th {\n        text-align: right;\n    }\n</style>\n<table border=\"1\" class=\"dataframe\">\n  <thead>\n    <tr style=\"text-align: right;\">\n      <th></th>\n      <th>employee_id</th>\n      <th>utilization_bin</th>\n      <th>memory</th>\n      <th>processing</th>\n      <th>storage</th>\n      <th>inverse_price</th>\n    </tr>\n  </thead>\n  <tbody>\n    <tr>\n      <th>0</th>\n      <td>1743</td>\n      <td>high</td>\n      <td>0.375</td>\n      <td>0.225</td>\n      <td>0.150</td>\n      <td>0.25</td>\n    </tr>\n    <tr>\n      <th>1</th>\n      <td>1752</td>\n      <td>high</td>\n      <td>0.450</td>\n      <td>0.225</td>\n      <td>0.075</td>\n      <td>0.25</td>\n    </tr>\n    <tr>\n      <th>2</th>\n      <td>1758</td>\n      <td>high</td>\n      <td>0.375</td>\n      <td>0.300</td>\n      <td>0.075</td>\n      <td>0.25</td>\n    </tr>\n    <tr>\n      <th>3</th>\n      <td>1825</td>\n      <td>high</td>\n      <td>0.300</td>\n      <td>0.300</td>\n      <td>0.150</td>\n      <td>0.25</td>\n    </tr>\n    <tr>\n      <th>4</th>\n      <td>1842</td>\n      <td>high</td>\n      <td>0.300</td>\n      <td>0.300</td>\n      <td>0.150</td>\n      <td>0.25</td>\n    </tr>\n  </tbody>\n</table>\n</div>"
     },
     "execution_count": 54,
     "metadata": {},
     "output_type": "execute_result"
    }
   ],
   "source": [
    "employees.head()"
   ],
   "metadata": {
    "collapsed": false
   }
  },
  {
   "cell_type": "code",
   "execution_count": 55,
   "outputs": [],
   "source": [
    "from problem import ProblemMax, ProblemScale"
   ],
   "metadata": {
    "collapsed": false
   }
  },
  {
   "cell_type": "code",
   "execution_count": 56,
   "outputs": [],
   "source": [
    "prob_max = ProblemMax(computers, employees)\n",
    "prob_scale = ProblemScale(computers, employees)"
   ],
   "metadata": {
    "collapsed": false
   }
  },
  {
   "cell_type": "code",
   "execution_count": 57,
   "outputs": [],
   "source": [
    "from simulated_annealing import SimulatedAnnealing, SimulatedAnnealingConfig"
   ],
   "metadata": {
    "collapsed": false
   }
  },
  {
   "cell_type": "code",
   "execution_count": 58,
   "outputs": [],
   "source": [
    "config = SimulatedAnnealingConfig()"
   ],
   "metadata": {
    "collapsed": false
   }
  },
  {
   "cell_type": "code",
   "execution_count": 59,
   "outputs": [],
   "source": [
    "annealing_max = SimulatedAnnealing(config, prob_max)"
   ],
   "metadata": {
    "collapsed": false
   }
  },
  {
   "cell_type": "code",
   "execution_count": 60,
   "outputs": [
    {
     "name": "stdout",
     "output_type": "stream",
     "text": [
      "SOLUTION:\n",
      " Best: [8, 5, 4]\n"
     ]
    },
    {
     "data": {
      "text/plain": "[8, 5, 4]"
     },
     "execution_count": 24,
     "metadata": {},
     "output_type": "execute_result"
    },
    {
     "name": "stdout",
     "output_type": "stream",
     "text": [
      "SOLUTION:\n",
      " Best: [2, 5, 4]\n"
     ]
    },
    {
     "data": {
      "text/plain": "[2, 5, 4]"
     },
     "execution_count": 60,
     "metadata": {},
     "output_type": "execute_result"
    }
   ],
   "source": [
    "annealing_max.solve()"
   ],
   "metadata": {
    "collapsed": false
   }
  },
  {
   "cell_type": "code",
   "execution_count": 61,
   "outputs": [],
   "source": [
    "from stupid_solution import Stupid\n",
    "\n",
    "stupid_max = Stupid(prob_max)"
   ],
   "metadata": {
    "collapsed": false
   }
  },
  {
   "cell_type": "code",
   "execution_count": 62,
   "outputs": [
    {
     "name": "stdout",
     "output_type": "stream",
     "text": [
      "SOLUTION:\n",
      " Best: [1, 4, 5]\n"
     ]
    },
    {
     "data": {
      "text/plain": "[1, 4, 5]"
     },
     "execution_count": 26,
     "metadata": {},
     "output_type": "execute_result"
    },
    {
     "name": "stdout",
     "output_type": "stream",
     "text": [
      "SOLUTION:\n",
      " Best: [1, 4, 5]\n"
     ]
    },
    {
     "data": {
      "text/plain": "[1, 4, 5]"
     },
     "execution_count": 62,
     "metadata": {},
     "output_type": "execute_result"
    }
   ],
   "source": [
    "stupid_max.solve()"
   ],
   "metadata": {
    "collapsed": false
   }
  },
  {
   "cell_type": "code",
   "execution_count": 63,
   "outputs": [],
   "source": [
    "annealing_scale = SimulatedAnnealing(SimulatedAnnealingConfig(), prob_scale)"
   ],
   "metadata": {
    "collapsed": false
   }
  },
  {
   "cell_type": "code",
   "execution_count": 64,
   "outputs": [
    {
     "name": "stdout",
     "output_type": "stream",
     "text": [
      "SOLUTION:\n",
      " Best: [5, 4, 1]\n"
     ]
    },
    {
     "data": {
      "text/plain": "[5, 4, 1]"
     },
     "execution_count": 28,
     "metadata": {},
     "output_type": "execute_result"
    },
    {
     "name": "stdout",
     "output_type": "stream",
     "text": [
      "SOLUTION:\n",
      " Best: [5, 4, 8]\n"
     ]
    },
    {
     "data": {
      "text/plain": "[5, 4, 8]"
     },
     "execution_count": 64,
     "metadata": {},
     "output_type": "execute_result"
    }
   ],
   "source": [
    "annealing_scale.solve()"
   ],
   "metadata": {
    "collapsed": false
   }
  },
  {
   "cell_type": "code",
   "execution_count": 65,
   "outputs": [],
   "source": [
    "stupid_scale = Stupid(prob_scale)"
   ],
   "metadata": {
    "collapsed": false
   }
  },
  {
   "cell_type": "code",
   "execution_count": 66,
   "outputs": [
    {
     "name": "stdout",
     "output_type": "stream",
     "text": [
      "SOLUTION:\n",
      " Best: [1, 4, 5]\n"
     ]
    },
    {
     "data": {
      "text/plain": "[1, 4, 5]"
     },
     "execution_count": 30,
     "metadata": {},
     "output_type": "execute_result"
    },
    {
     "name": "stdout",
     "output_type": "stream",
     "text": [
      "SOLUTION:\n",
      " Best: [1, 4, 5]\n"
     ]
    },
    {
     "data": {
      "text/plain": "[1, 4, 5]"
     },
     "execution_count": 66,
     "metadata": {},
     "output_type": "execute_result"
    }
   ],
   "source": [
    "stupid_scale.solve()"
   ],
   "metadata": {
    "collapsed": false
   }
  },
  {
   "cell_type": "code",
   "execution_count": 67,
   "outputs": [
    {
     "data": {
      "text/plain": "1149.1999999999987"
     },
     "execution_count": 31,
     "metadata": {},
     "output_type": "execute_result"
    },
    {
     "data": {
      "text/plain": "1149.1999999999987"
     },
     "execution_count": 67,
     "metadata": {},
     "output_type": "execute_result"
    }
   ],
   "source": [
    "prob_scale.calculate_state_cost([4, 5, 8])"
   ],
   "metadata": {
    "collapsed": false
   }
  },
  {
   "cell_type": "code",
   "execution_count": 68,
   "outputs": [
    {
     "data": {
      "text/plain": "1151.0499999999988"
     },
     "execution_count": 32,
     "metadata": {},
     "output_type": "execute_result"
    },
    {
     "data": {
      "text/plain": "1151.0499999999988"
     },
     "execution_count": 68,
     "metadata": {},
     "output_type": "execute_result"
    }
   ],
   "source": [
    "prob_scale.calculate_state_cost([1, 4, 5])"
   ],
   "metadata": {
    "collapsed": false
   }
  },
  {
   "cell_type": "code",
   "execution_count": 69,
   "outputs": [],
   "source": [
    "from problem import ProblemNothing\n",
    "\n",
    "prob_nothing = ProblemNothing(computers, employees)\n",
    "annealing_nothing = SimulatedAnnealing(SimulatedAnnealingConfig(), prob_nothing)"
   ],
   "metadata": {
    "collapsed": false
   }
  },
  {
   "cell_type": "code",
   "execution_count": 70,
   "outputs": [
    {
     "name": "stdout",
     "output_type": "stream",
     "text": [
      "SOLUTION:\n",
      " Best: [8, 2, 1]\n"
     ]
    },
    {
     "data": {
      "text/plain": "[8, 2, 1]"
     },
     "execution_count": 34,
     "metadata": {},
     "output_type": "execute_result"
    },
    {
     "name": "stdout",
     "output_type": "stream",
     "text": [
      "SOLUTION:\n",
      " Best: [8, 9, 10]\n"
     ]
    },
    {
     "data": {
      "text/plain": "[8, 9, 10]"
     },
     "execution_count": 70,
     "metadata": {},
     "output_type": "execute_result"
    }
   ],
   "source": [
    "annealing_nothing.solve()"
   ],
   "metadata": {
    "collapsed": false
   }
  },
  {
   "cell_type": "code",
   "execution_count": 71,
   "outputs": [
    {
     "name": "stdout",
     "output_type": "stream",
     "text": [
      "SOLUTION:\n",
      " Best: [1, 2, 8]\n"
     ]
    },
    {
     "data": {
      "text/plain": "[1, 2, 8]"
     },
     "execution_count": 35,
     "metadata": {},
     "output_type": "execute_result"
    },
    {
     "name": "stdout",
     "output_type": "stream",
     "text": [
      "SOLUTION:\n",
      " Best: [1, 2, 8]\n"
     ]
    },
    {
     "data": {
      "text/plain": "[1, 2, 8]"
     },
     "execution_count": 71,
     "metadata": {},
     "output_type": "execute_result"
    }
   ],
   "source": [
    "stupid_nothing = Stupid(prob_nothing)\n",
    "stupid_nothing.solve()"
   ],
   "metadata": {
    "collapsed": false
   }
  },
  {
   "cell_type": "code",
   "execution_count": 72,
   "outputs": [
    {
     "data": {
      "text/plain": "1024.650000000001"
     },
     "execution_count": 36,
     "metadata": {},
     "output_type": "execute_result"
    },
    {
     "data": {
      "text/plain": "1024.650000000001"
     },
     "execution_count": 72,
     "metadata": {},
     "output_type": "execute_result"
    }
   ],
   "source": [
    "prob_nothing.calculate_state_cost([1, 2, 8])"
   ],
   "metadata": {
    "collapsed": false
   }
  },
  {
   "cell_type": "code",
   "execution_count": 72,
   "outputs": [],
   "source": [],
   "metadata": {
    "collapsed": false
   }
  }
 ],
 "metadata": {
  "kernelspec": {
   "display_name": "Python 3",
   "language": "python",
   "name": "python3"
  },
  "language_info": {
   "codemirror_mode": {
    "name": "ipython",
    "version": 2
   },
   "file_extension": ".py",
   "mimetype": "text/x-python",
   "name": "python",
   "nbconvert_exporter": "python",
   "pygments_lexer": "ipython2",
   "version": "2.7.6"
  }
 },
 "nbformat": 4,
 "nbformat_minor": 0
}
